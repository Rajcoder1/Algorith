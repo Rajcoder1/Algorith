{
  "cells": [
    {
      "cell_type": "markdown",
      "metadata": {
        "id": "punL79CN7Ox6"
      },
      "source": [
        "##### Copyright 2020 The TensorFlow Authors."
      ]
    },
    {
      "cell_type": "code",
      "execution_count": null,
      "metadata": {
        "cellView": "form",
        "id": "_ckMIh7O7s6D"
      },
      "outputs": [],
      "source": [
        "#@title Licensed under the Apache License, Version 2.0 (the \"License\");\n",
        "# you may not use this file except in compliance with the License.\n",
        "# You may obtain a copy of the License at\n",
        "#\n",
        "# https://www.apache.org/licenses/LICENSE-2.0\n",
        "#\n",
        "# Unless required by applicable law or agreed to in writing, software\n",
        "# distributed under the License is distributed on an \"AS IS\" BASIS,\n",
        "# WITHOUT WARRANTIES OR CONDITIONS OF ANY KIND, either express or implied.\n",
        "# See the License for the specific language governing permissions and\n",
        "# limitations under the License."
      ]
    },
    {
      "cell_type": "markdown",
      "metadata": {
        "id": "Ph5eir3Pf-3z"
      },
      "source": [
        "# Constructing a Text Generation Model\n"
      ]
    },
    {
      "cell_type": "markdown",
      "metadata": {
        "id": "S5Uhzt6vVIB2"
      },
      "source": [
        "<table class=\"tfo-notebook-buttons\" align=\"left\">\n",
        "  <td>\n",
        "    <a target=\"_blank\" href=\"https://colab.research.google.com/github/tensorflow/examples/blob/master/courses/udacity_intro_to_tensorflow_for_deep_learning/l10c03_nlp_constructing_text_generation_model.ipynb\"><img src=\"https://www.tensorflow.org/images/colab_logo_32px.png\" />Run in Google Colab</a>\n",
        "  </td>\n",
        "  <td>\n",
        "    <a target=\"_blank\" href=\"https://github.com/tensorflow/examples/blob/master/courses/udacity_intro_to_tensorflow_for_deep_learning/l10c03_nlp_constructing_text_generation_model.ipynb\"><img src=\"https://www.tensorflow.org/images/GitHub-Mark-32px.png\" />View source on GitHub</a>\n",
        "  </td>\n",
        "</table>"
      ]
    },
    {
      "cell_type": "markdown",
      "metadata": {
        "id": "7GbGfr_oLCat"
      },
      "source": [
        "Using most of the techniques you've already learned, it's now possible to generate new text by predicting the next word that follows a given seed word. To practice this method, we'll use the [Kaggle Song Lyrics Dataset](https://www.kaggle.com/mousehead/songlyrics)."
      ]
    },
    {
      "cell_type": "markdown",
      "metadata": {
        "id": "4aHK2CYygXom"
      },
      "source": [
        "## Import TensorFlow and related functions"
      ]
    },
    {
      "cell_type": "code",
      "execution_count": 1,
      "metadata": {
        "id": "2LmLTREBf5ng"
      },
      "outputs": [],
      "source": [
        "import tensorflow as tf\n",
        "\n",
        "from tensorflow.keras.preprocessing.text import Tokenizer\n",
        "from tensorflow.keras.preprocessing.sequence import pad_sequences\n",
        "\n",
        "# Other imports for processing data\n",
        "import string\n",
        "import numpy as np\n",
        "import pandas as pd"
      ]
    },
    {
      "cell_type": "markdown",
      "metadata": {
        "id": "GmLTO_dpgge9"
      },
      "source": [
        "## Get the Dataset\n",
        "\n",
        "As noted above, we'll utilize the [Song Lyrics dataset](https://www.kaggle.com/mousehead/songlyrics) on Kaggle."
      ]
    },
    {
      "cell_type": "code",
      "execution_count": 2,
      "metadata": {
        "id": "4Bf5FVHfganK",
        "outputId": "41ca9cde-5267-415b-f0eb-03a1ac96d66b",
        "colab": {
          "base_uri": "https://localhost:8080/"
        }
      },
      "outputs": [
        {
          "output_type": "stream",
          "name": "stdout",
          "text": [
            "--2025-01-02 00:33:33--  https://drive.google.com/uc?id=1LiJFZd41ofrWoBtW-pMYsfz1w8Ny0Bj8\n",
            "Resolving drive.google.com (drive.google.com)... 142.250.98.139, 142.250.98.138, 142.250.98.100, ...\n",
            "Connecting to drive.google.com (drive.google.com)|142.250.98.139|:443... connected.\n",
            "HTTP request sent, awaiting response... 303 See Other\n",
            "Location: https://drive.usercontent.google.com/download?id=1LiJFZd41ofrWoBtW-pMYsfz1w8Ny0Bj8 [following]\n",
            "--2025-01-02 00:33:33--  https://drive.usercontent.google.com/download?id=1LiJFZd41ofrWoBtW-pMYsfz1w8Ny0Bj8\n",
            "Resolving drive.usercontent.google.com (drive.usercontent.google.com)... 142.251.107.132, 2607:f8b0:400c:c32::84\n",
            "Connecting to drive.usercontent.google.com (drive.usercontent.google.com)|142.251.107.132|:443... connected.\n",
            "HTTP request sent, awaiting response... 200 OK\n",
            "Length: 72436445 (69M) [application/octet-stream]\n",
            "Saving to: ‘/tmp/songdata.csv’\n",
            "\n",
            "/tmp/songdata.csv   100%[===================>]  69.08M   132MB/s    in 0.5s    \n",
            "\n",
            "2025-01-02 00:33:39 (132 MB/s) - ‘/tmp/songdata.csv’ saved [72436445/72436445]\n",
            "\n"
          ]
        }
      ],
      "source": [
        "!wget --no-check-certificate \\\n",
        "    https://drive.google.com/uc?id=1LiJFZd41ofrWoBtW-pMYsfz1w8Ny0Bj8 \\\n",
        "    -O /tmp/songdata.csv"
      ]
    },
    {
      "cell_type": "markdown",
      "metadata": {
        "id": "gu1BTzMIS1oy"
      },
      "source": [
        "## **First 10 Songs**\n",
        "\n",
        "Let's first look at just 10 songs from the dataset, and see how things perform."
      ]
    },
    {
      "cell_type": "markdown",
      "metadata": {
        "id": "fmb9rGaAUDO-"
      },
      "source": [
        "### Preprocessing\n",
        "\n",
        "Let's perform some basic preprocessing to get rid of punctuation and make everything lowercase. We'll then split the lyrics up by line and tokenize the lyrics."
      ]
    },
    {
      "cell_type": "code",
      "execution_count": 3,
      "metadata": {
        "id": "2AVAvyF_Vuh5"
      },
      "outputs": [],
      "source": [
        "def tokenize_corpus(corpus, num_words=-1):\n",
        "  # Fit a Tokenizer on the corpus\n",
        "  if num_words > -1:\n",
        "    tokenizer = Tokenizer(num_words=num_words)\n",
        "  else:\n",
        "    tokenizer = Tokenizer()\n",
        "  tokenizer.fit_on_texts(corpus)\n",
        "  return tokenizer\n",
        "\n",
        "def create_lyrics_corpus(dataset, field):\n",
        "  # Remove all other punctuation\n",
        "  dataset[field] = dataset[field].str.replace('[{}]'.format(string.punctuation), '')\n",
        "  # Make it lowercase\n",
        "  dataset[field] = dataset[field].str.lower()\n",
        "  # Make it one long string to split by line\n",
        "  lyrics = dataset[field].str.cat()\n",
        "  corpus = lyrics.split('\\n')\n",
        "  # Remove any trailing whitespace\n",
        "  for l in range(len(corpus)):\n",
        "    corpus[l] = corpus[l].rstrip()\n",
        "  # Remove any empty lines\n",
        "  corpus = [l for l in corpus if l != '']\n",
        "\n",
        "  return corpus"
      ]
    },
    {
      "cell_type": "code",
      "execution_count": 49,
      "metadata": {
        "id": "apcEXp7WhVBs",
        "outputId": "e35015cc-9d58-4ef5-e76c-a10b4065c7ef",
        "colab": {
          "base_uri": "https://localhost:8080/"
        }
      },
      "outputs": [
        {
          "output_type": "stream",
          "name": "stdout",
          "text": [
            "{'the': 1, 'i': 2, 'you': 3, 'a': 4, 'and': 5, 'to': 6, 'me': 7, 'it': 8, 'in': 9, 'my': 10, 'of': 11, 'that': 12, 'your': 13, \"i'm\": 14, 'love': 15, 'all': 16, 'for': 17, 'so': 18, 'is': 19, 'on': 20, 'be': 21, 'we': 22, \"don't\": 23, 'when': 24, 'just': 25, 'la': 26, \"you're\": 27, 'but': 28, \"it's\": 29, 'like': 30, 'do': 31, 'know': 32, 'with': 33, 'now': 34, 'what': 35, 'no': 36, 'can': 37, 'have': 38, 'was': 39, 'got': 40, 'take': 41, 'one': 42, 'if': 43, 'get': 44, 'never': 45, 'yeah': 46, 'time': 47, 'down': 48, 'go': 49, 'see': 50, 'she': 51, 'up': 52, \"can't\": 53, 'out': 54, 'this': 55, 'baby': 56, 'oh': 57, 'more': 58, 'are': 59, 'want': 60, 'away': 61, 'night': 62, 'feel': 63, 'as': 64, 'will': 65, 'gonna': 66, 'from': 67, 'say': 68, 'way': 69, 'make': 70, 'at': 71, 'tell': 72, \"there's\": 73, 'let': 74, 'they': 75, 'not': 76, \"i've\": 77, 'gotta': 78, 'come': 79, 'he': 80, 'could': 81, 'how': 82, 'here': 83, 'day': 84, 'girl': 85, 'too': 86, 'there': 87, \"i'll\": 88, 'think': 89, 'her': 90, 'life': 91, 'through': 92, \"ain't\": 93, 'said': 94, 'where': 95, 'always': 96, 'little': 97, 'need': 98, 'our': 99, 'give': 100, \"that's\": 101, \"'cause\": 102, 'believe': 103, 'then': 104, 'only': 105, 'who': 106, 'chorus': 107, 'good': 108, \"we're\": 109, 'honey': 110, 'am': 111, 'well': 112, 'man': 113, 'had': 114, 'look': 115, 'every': 116, 'right': 117, 'world': 118, 'been': 119, 'back': 120, 'by': 121, 'really': 122, \"won't\": 123, 'still': 124, 'some': 125, 'eyes': 126, 'sweet': 127, 'around': 128, 'feeling': 129, 'better': 130, 'hold': 131, 'mind': 132, 'about': 133, 'please': 134, 'long': 135, 'find': 136, 'old': 137, 'us': 138, 'why': 139, 'live': 140, 'everything': 141, 'would': 142, 'ah': 143, 'or': 144, 'dance': 145, 'again': 146, 'head': 147, 'yes': 148, 'nothing': 149, \"she's\": 150, 'hard': 151, 'light': 152, 'last': 153, 'new': 154, 'stop': 155, 'before': 156, 'his': 157, 'hey': 158, 'an': 159, 'ya': 160, 'walk': 161, 'were': 162, 'tonight': 163, 'heart': 164, 'chance': 165, 'side': 166, 'ever': 167, 'things': 168, 'stay': 169, 'into': 170, 'did': 171, 'over': 172, 'must': 173, 'people': 174, \"you'll\": 175, 'turn': 176, 'hear': 177, 'ha': 178, 'even': 179, 'shame': 180, 'easy': 181, 'has': 182, 'other': 183, 'remember': 184, 'something': 185, 'sing': 186, 'much': 187, 'wanna': 188, 'sun': 189, 'true': 190, 'done': 191, 'same': 192, 'blue': 193, 'another': 194, 'gone': 195, \"you'd\": 196, 'two': 197, \"you've\": 198, 'gimme': 199, 'without': 200, 'alone': 201, 'friend': 202, 'him': 203, 'bad': 204, 'made': 205, 'face': 206, 'sure': 207, 'fire': 208, 'try': 209, \"he's\": 210, 'someone': 211, 'hand': 212, 'nights': 213, 'thing': 214, 'run': 215, 'doctor': 216, 'together': 217, 'dream': 218, 'kind': 219, \"didn't\": 220, 'leave': 221, 'far': 222, 'waiting': 223, 'lay': 224, 'woman': 225, 'play': 226, 'show': 227, 'them': 228, 'inside': 229, 'city': 230, 'after': 231, 'miss': 232, 'song': 233, 'happy': 234, 'their': 235, 'while': 236, 'best': 237, 'call': 238, 'thought': 239, 'somebody': 240, 'door': 241, 'place': 242, 'days': 243, 'does': 244, 'home': 245, 'end': 246, 'dancing': 247, 'doing': 248, \"wasn't\": 249, 'talk': 250, 'told': 251, 'going': 252, 'enough': 253, 'care': 254, 'myself': 255, 'knew': 256, 'late': 257, 'crazy': 258, 'than': 259, 'sometimes': 260, 'keep': 261, 'money': 262, 'cow': 263, \"goin'\": 264, 'alive': 265, 'left': 266, 'wish': 267, 'lose': 268, 'off': 269, 'upon': 270, 'smile': 271, 'wrong': 272, \"i'd\": 273, 'friends': 274, 'roll': 275, 'music': 276, 'free': 277, 'came': 278, 'seems': 279, 'help': 280, 'lights': 281, 'high': 282, 'mother': 283, 'should': 284, 'those': 285, 'line': 286, 'road': 287, 'forever': 288, 'these': 289, 'times': 290, 'break': 291, 'cry': 292, 'goes': 293, 'watch': 294, 'bit': 295, 'soul': 296, 'found': 297, 'dumb': 298, 'sorry': 299, 'dreams': 300, \"what's\": 301, 'first': 302, 'darling': 303, 'kiss': 304, 'morning': 305, 'round': 306, 'open': 307, 'outta': 308, 'ma': 309, 'used': 310, 'pain': 311, 'somewhere': 312, 'pretty': 313, 'fernando': 314, 'wonder': 315, 'cause': 316, 'nobody': 317, 'thinking': 318, 'each': 319, \"we'll\": 320, 'touch': 321, 'words': 322, 'hot': 323, 'real': 324, 'comes': 325, 'close': 326, 'name': 327, 'summer': 328, 'mean': 329, 'dum': 330, 'lonely': 331, 'p': 332, 'per': 333, 'making': 334, 'anymore': 335, 'near': 336, 'under': 337, 'once': 338, 'until': 339, \"couldn't\": 340, 'forget': 341, 'knows': 342, \"doesn't\": 343, 'living': 344, 'room': 345, 'fall': 346, 'ring': 347, 'shit': 348, 'put': 349, 'own': 350, 'hope': 351, 'lot': 352, \"rock'n\": 353, 'wants': 354, 'sword': 355, 'mine': 356, 'listen': 357, 'reason': 358, 'may': 359, 'looking': 360, 'fly': 361, 'today': 362, 'gave': 363, 'lovers': 364, 'tried': 365, 'rich': 366, 'moon': 367, 'ready': 368, 'deep': 369, \"they're\": 370, 'behind': 371, 'knowing': 372, 'move': 373, 'fun': 374, 'shine': 375, 'bring': 376, 'any': 377, 'everybody': 378, 'body': 379, 'such': 380, 'hearts': 381, 'else': 382, 'sky': 383, 'shining': 384, 'cold': 385, 'lord': 386, \"we've\": 387, 'rock': 388, 'maybe': 389, 'dark': 390, 'since': 391, 'big': 392, \"livin'\": 393, 'supernatural': 394, 'walking': 395, 'start': 396, 'fight': 397, 'saw': 398, 'wait': 399, 'tomorrow': 400, 'went': 401, 'memories': 402, 'funny': 403, 'ooh': 404, 'eat': 405, 'jeanie': 406, 'mercy': 407, 'sound': 408, 'lost': 409, 'rain': 410, 'part': 411, 'lies': 412, \"let's\": 413, 'understand': 414, 'afraid': 415, \"isn't\": 416, 'follow': 417, 'taste': 418, 'wind': 419, 'dog': 420, 'middle': 421, 'town': 422, 'scream': 423, 'mama': 424, \"lovin'\": 425, 'till': 426, 'farm': 427, 'makes': 428, 'fine': 429, 'boy': 430, 'yourself': 431, 'boomerang': 432, 'many': 433, 'falling': 434, 'year': 435, 'might': 436, 'very': 437, 'fill': 438, 'train': 439, 'change': 440, 'boom': 441, 'queen': 442, 'young': 443, 'empty': 444, 'coming': 445, 'die': 446, 'years': 447, 'window': 448, 'sight': 449, 'tight': 450, 'gets': 451, 'floor': 452, 'magic': 453, 'voulez': 454, 'vous': 455, \"movin'\": 456, 'pink': 457, 'andante': 458, 'strong': 459, 'being': 460, 'leaving': 461, 'sad': 462, 'sitting': 463, 'matter': 464, 'seem': 465, 'speak': 466, 'heaven': 467, 'glove': 468, 'fear': 469, 'belong': 470, 'game': 471, 'trip': 472, 'gun': 473, 'john': 474, 'ground': 475, 'god': 476, 'past': 477, 'street': 478, 'though': 479, 'wanted': 480, 'sleep': 481, 'meet': 482, 'shadows': 483, 'loved': 484, 'songs': 485, 'hit': 486, 'along': 487, 'sunny': 488, 'hide': 489, 'faith': 490, 'excited': 491, 'waterloo': 492, 'uh': 493, 'moo': 494, 'slow': 495, 'taking': 496, 'learn': 497, 'burning': 498, 'bed': 499, 'cool': 500, 'goodbye': 501, 'voice': 502, 'known': 503, 'lie': 504, 'midnight': 505, 'ask': 506, 'throw': 507, 'helen': 508, 'hell': 509, 'kissed': 510, 'marionette': 511, 'black': 512, 'share': 513, 'answer': 514, 'hug': 515, 'pick': 516, 'stand': 517, 'ba': 518, 'farmer': 519, 'bang': 520, 'use': 521, 'giving': 522, 'took': 523, 'having': 524, 'star': 525, 'air': 526, 'soon': 527, 'noise': 528, 'laugh': 529, 'cross': 530, 'moment': 531, 'longer': 532, 'alright': 533, 'pull': 534, 'suddenly': 535, \"wouldn't\": 536, 'oooh': 537, 'instead': 538, 'because': 539, 'surprise': 540, 'ass': 541, 'fucking': 542, 'fast': 543, 'fingers': 544, 'thousand': 545, 'kisses': 546, 'fool': 547, 'pride': 548, 'broken': 549, 'getting': 550, \"'em\": 551, 'breaking': 552, 'feelings': 553, 'seen': 554, 'que': 555, 'different': 556, 'worth': 557, 'hurt': 558, 'voices': 559, 'boys': 560, 'apart': 561, 'story': 562, 'lovelight': 563, 'rest': 564, \"man's\": 565, 'aha': 566, 'tells': 567, 'bale': 568, 'suzy': 569, 'everyone': 570, \"crackin'\": 571, 'teacher': 572, 'toys': 573, 'knees': 574, 'fever': 575, \"janie's\": 576, 'talking': 577, 'grow': 578, 'standing': 579, 'playing': 580, 'feet': 581, 'men': 582, 'brother': 583, 'trying': 584, 'king': 585, 'read': 586, 'wild': 587, 'minute': 588, 'laid': 589, 'passing': 590, 'guess': 591, 'heard': 592, 'hole': 593, \"lookin'\": 594, 'lover': 595, \"something's\": 596, 'hang': 597, 'cat': 598, 'merry': 599, 'sea': 600, 'rocking': 601, 'kept': 602, 'tiger': 603, 'sunshine': 604, \"comin'\": 605, \"rockin'\": 606, \"hoppin'\": 607, 'ways': 608, 'hate': 609, 'blind': 610, 'nice': 611, 'low': 612, 'crowd': 613, 'angel': 614, 'land': 615, 'needs': 616, 'full': 617, 'outside': 618, 'loving': 619, 'bitter': 620, 'send': 621, 'lady': 622, 'hello': 623, 'between': 624, 'price': 625, 'blues': 626, 'arms': 627, 'anything': 628, 'carry': 629, \"'round\": 630, 'sup': 631, 'troop': 632, \"they'll\": 633, 'buy': 634, 'roller': 635, 'hands': 636, 'hurts': 637, 'cecilia': 638, 'runner': 639, \"rollin'\": 640, 'ooooo': 641, 'anywhere': 642, 'ride': 643, 'sunrise': 644, 'blame': 645, 'met': 646, 'proud': 647, 'darkness': 648, 'replaced': 649, 'looked': 650, 'cries': 651, 'its': 652, 'bound': 653, 'doll': 654, 'glad': 655, 'wake': 656, 'shake': 657, 'heat': 658, 'started': 659, 'lordy': 660, 'save': 661, 'whole': 662, 'perfect': 663, 'mountain': 664, 'special': 665, 'hum': 666, 'tired': 667, 'dead': 668, 'chiquitita': 669, 'yet': 670, 'anyone': 671, 'style': 672, 'movie': 673, 'frida': 674, 'half': 675, 'spend': 676, 'win': 677, 'happened': 678, 'treat': 679, 'both': 680, 'children': 681, 'strange': 682, 'rhythm': 683, 'fantasy': 684, 'bother': 685, 'o': 686, 'kinda': 687, 'emotion': 688, 'happiest': 689, 'tree': 690, 'ball': 691, 'word': 692, 'takes': 693, 's': 694, 'rise': 695, 'missing': 696, 'mm': 697, 'verse': 698, 'believer': 699, \"gettin'\": 700, 'nah': 701, 'oasis': 702, 'st': 703, 'strength': 704, 'meant': 705, 'felt': 706, 'caught': 707, 'hour': 708, 'future': 709, 'fate': 710, 'stood': 711, 'truth': 712, 'house': 713, 'car': 714, 'scene': 715, 'child': 716, 'agnetha': 717, 'reach': 718, 'sounds': 719, 'next': 720, 'dawn': 721, \"givin'\": 722, 'fell': 723, 'lives': 724, 'blow': 725, 'tear': 726, 'joy': 727, 'write': 728, \"everybody's\": 729, 'called': 730, 'luck': 731, 'red': 732, 'doubt': 733, 'sore': 734, 'across': 735, 'owe': 736, \"talkin'\": 737, 'blood': 738, 'catch': 739, \"nothin'\": 740, 'rag': 741, \"messin'\": 742, 'american': 743, 'leaves': 744, 'thank': 745, 'tune': 746, 'de': 747, 'warm': 748, 'sick': 749, 'pity': 750, 'dawning': 751, 'above': 752, \"love's\": 753, 'guy': 754, \"cryin'\": 755, 'smiling': 756, 'wishing': 757, 'loud': 758, 'searching': 759, 'trust': 760, 'somehow': 761, 'diddle': 762, \"we'd\": 763, 'helping': 764, 'bright': 765, 'forgotten': 766, 'chase': 767, 'second': 768, \"he'll\": 769, 'keeps': 770, 'turned': 771, 'heels': 772, 'says': 773, 'evil': 774, 'ending': 775, 'single': 776, \"'til\": 777, 'walked': 778, 'band': 779, \"'bout\": 780, 'learned': 781, 'rough': 782, 'drink': 783, 'devil': 784, 'clear': 785, 'small': 786, 'underneath': 787, 'jump': 788, 'sense': 789, 'soldiers': 790, 'cried': 791, 'following': 792, 'beneath': 793, 'yellow': 794, 'loveland': 795, 'christmas': 796, 'held': 797, 'edge': 798, \"smokin'\": 799, 'bread': 800, 'tall': 801, 'bite': 802, 'shove': 803, 'push': 804, 'india': 805, 'yak': 806, 'means': 807, 'park': 808, 'growing': 809, 'beg': 810, 'mad': 811, 'moving': 812, 'crying': 813, 'cassandra': 814, 'almost': 815, 'anybody': 816, 'beat': 817, 'dreamworld': 818, 'within': 819, 'work': 820, 'fiddle': 821, 'fair': 822, 'questions': 823, 'seemed': 824, 'repeat': 825, 'y': 826, 'finally': 827, 'watching': 828, 'rainbow': 829, 'phone': 830, 'tears': 831, 'clouds': 832, 'few': 833, 'imagine': 834, 'likes': 835, 'running': 836, 'stream': 837, 'ours': 838, 'taken': 839, 'shoes': 840, 'school': 841, 'loves': 842, 'dry': 843, 'needed': 844, \"keepin'\": 845, 'clown': 846, 'ends': 847, 'point': 848, 'twice': 849, 'bye': 850, 'secret': 851, 'cotton': 852, 'rikky': 853, 'slipping': 854, 'crack': 855, 'lead': 856, 'desire': 857, 'calling': 858, \"'cuz\": 859, 'earth': 860, \"n'\": 861, \"slippin'\": 862, 'grind': 863, 'roxy': 864, 'bloody': 865, 'temperature': 866, 'hours': 867, 'evening': 868, 'breeze': 869, 'soft': 870, 'saying': 871, 'question': 872, 'return': 873, 'eye': 874, 'power': 875, 'filled': 876, 'walls': 877, 'closed': 878, \"nothing's\": 879, 'chasing': 880, 'escape': 881, \"they've\": 882, 'dreaming': 883, 'ago': 884, 'closer': 885, 'lo': 886, 'twinkle': 887, 'mmm': 888, 'awake': 889, 'blowing': 890, 'early': 891, 'whatever': 892, 'river': 893, 'ocean': 894, 'romance': 895, 'hah': 896, 'rather': 897, 'least': 898, 'beats': 899, 'pay': 900, 'choice': 901, 'sigh': 902, 'dear': 903, 'returning': 904, 'insane': 905, 'super': 906, 'monkey': 907, 'babe': 908, 'sit': 909, 'damn': 910, 'beside': 911, 'precious': 912, 'picture': 913, 'flowers': 914, 'starts': 915, 'test': 916, 'tropical': 917, 'pages': 918, 'tidings': 919, 'changes': 920, 'uncle': 921, 'pre': 922, 'doubts': 923, 'knock': 924, \"leavin'\": 925, \"headin'\": 926, 'chuck': 927, 'beep': 928, 'darkest': 929, 'sister': 930, 'candle': 931, 'smiled': 932, 'bone': 933, \"nobody's\": 934, 'flying': 935, 'fade': 936, 'jive': 937, 'heal': 938, 'driving': 939, 'hopes': 940, 'white': 941, 'bird': 942, 'higher': 943, 'softly': 944, 'si': 945, 'tuviera': 946, 'volverlo': 947, 'hacer': 948, 'haria': 949, 'beautiful': 950, 'weather': 951, 'lying': 952, 'track': 953, 'trees': 954, 'gloom': 955, 'runs': 956, 'gives': 957, 'party': 958, 'anyway': 959, 'trouble': 960, 'others': 961, 'gold': 962, 'daddy': 963, 'loose': 964, 'begun': 965, 'size': 966, 'million': 967, 'angels': 968, 'mirror': 969, 'wall': 970, 'clearly': 971, 'space': 972, 'able': 973, 'trooper': 974, 'destiny': 975, 'mighty': 976, 'silence': 977, 'grown': 978, 'choose': 979, 'waited': 980, 'mia': 981, 'turns': 982, 'store': 983, 'hair': 984, 'key': 985, 'women': 986, 'hearted': 987, 'died': 988, 'whenever': 989, 'girls': 990, 'pass': 991, 'birds': 992, 'turning': 993, 'building': 994, 'visitors': 995, 'winner': 996, 'book': 997, 'kin': 998, 'breath': 999, 'color': 1000, 'stinks': 1001, 'mrr': 1002, '1': 1003, '2': 1004, 'lasts': 1005, 'lovin': 1006, 'heads': 1007, 'draw': 1008, \"daddy's\": 1009, 'yonder': 1010, 'heh': 1011, 'rose': 1012, 'tongue': 1013, 'wherever': 1014, 'notion': 1015, 'forgive': 1016, \"walkin'\": 1017, 'peace': 1018, 'none': 1019, 'warning': 1020, 'ship': 1021, 'blown': 1022, 'front': 1023, 'seeing': 1024, \"sittin'\": 1025, 'memory': 1026, 'laughing': 1027, 'wondering': 1028, 'stars': 1029, 'reality': 1030, 'meets': 1031, 'eagle': 1032, 'climb': 1033, 'travel': 1034, 'freedom': 1035, 'x2': 1036, 'en': 1037, 'working': 1038, 'twilight': 1039, 'dying': 1040, 'embers': 1041, 'games': 1042, 'autumn': 1043, 'cannot': 1044, 'honolulu': 1045, 'hawaii': 1046, 'sand': 1047, 'holding': 1048, 'ten': 1049, 'nine': 1050, 'beginning': 1051, 'kill': 1052, 'looks': 1053, 'streets': 1054, 'painted': 1055, 'lifetime': 1056, \"tellin'\": 1057, 'silly': 1058, 'ceiling': 1059, 'number': 1060, 'easily': 1061, 'winter': 1062, 'patience': 1063, 'news': 1064, 'mamma': 1065, 'bobby': 1066, \"bobby's\": 1067, \"everyone's\": 1068, 'happens': 1069, 'treasure': 1070, 'explain': 1071, 'nina': 1072, 'ballerina': 1073, 'cinderella': 1074, 'great': 1075, 'situation': 1076, 'staring': 1077, 'horse': 1078, 'rhyme': 1079, 'short': 1080, 'stone': 1081, 'thanks': 1082, 'melody': 1083, 'carrie': 1084, 'quarter': 1085, 'dinner': 1086, 'upside': 1087, 'piper': 1088, 'dice': 1089, 'three': 1090, 'attack': 1091, 'promised': 1092, 'regrets': 1093, 'decision': 1094, 'flame': 1095, 'lately': 1096, 'promise': 1097, 'traveling': 1098, 'passion': 1099, 'endless': 1100, 'confess': 1101, 'nation': 1102, 'judge': 1103, 'born': 1104, 'later': 1105, 'wasted': 1106, 'spaced': 1107, 'four': 1108, 'bridge': 1109, 'illuminates': 1110, 'harder': 1111, 'court': 1112, 'tails': 1113, \"she'd\": 1114, 'nose': 1115, \"feelin'\": 1116, 'shut': 1117, \"c'mon\": 1118, 'nancy': 1119, 'nowhere': 1120, 'brain': 1121, 'elevator': 1122, 'water': 1123, 'feeds': 1124, 'thin': 1125, 'shows': 1126, 'ladies': 1127, 'york': 1128, 'season': 1129, 'job': 1130, 'tropez': 1131, 'shines': 1132, 'cut': 1133, 'attic': 1134, 'wearing': 1135, 'pneumonia': 1136, 'skin': 1137, 'lived': 1138, 'praised': 1139, 'lucy': 1140, 'voodoo': 1141, 'awhile': 1142, 'accept': 1143, 'begins': 1144, 'sees': 1145, 'fellow': 1146, 'plan': 1147, 'tread': 1148, 'tough': 1149, 'keeping': 1150, 'mistake': 1151, 'tender': 1152, 'holy': 1153, 'singing': 1154, 'staying': 1155, 'final': 1156, 'shadow': 1157, 'figure': 1158, 'deny': 1159, 'realized': 1160, 'mood': 1161, 'seventeen': 1162, 'disillusion': 1163, 'hoping': 1164, 'whirl': 1165, 'drums': 1166, 'distant': 1167, 'regret': 1168, \"haven't\": 1169, 'recall': 1170, 'become': 1171, 'fortune': 1172, 'exciting': 1173, 'plane': 1174, 'yesterday': 1175, 'vision': 1176, 'comfort': 1177, 'everywhere': 1178, 'chair': 1179, 'leading': 1180, 'pushing': 1181, 'hurry': 1182, 'sail': 1183, 'paint': 1184, 'spit': 1185, 'conceal': 1186, 'thrill': 1187, 'surely': 1188, 'cloud': 1189, 'wide': 1190, 'constant': 1191, 'steady': 1192, 'famous': 1193, 'bars': 1194, \"doin'\": 1195, 'kong': 1196, 'ease': 1197, 'someday': 1198, 'tv': 1199, 'lips': 1200, 'devotions': 1201, 'emotions': 1202, 'losing': 1203, 'seasons': 1204, 'wedding': 1205, 'sensation': 1206, 'gloomy': 1207, 'brighter': 1208, 'corner': 1209, 'five': 1210, 'wine': 1211, 'everyday': 1212, 'apple': 1213, 'rainy': 1214, 'doors': 1215, 'table': 1216, 'fancy': 1217, 'trough': 1218, 'faces': 1219, 'fact': 1220, 'changed': 1221, 'spin': 1222, 'buddy': 1223, 'dig': 1224, 'jet': 1225, 'trick': 1226, 'teach': 1227, 'set': 1228, 'rubber': 1229, 'usual': 1230, 'drum': 1231, 'breathe': 1232, 'hid': 1233, 'crown': 1234, 'step': 1235, 'east': 1236, 'history': 1237, 'rules': 1238, \"here's\": 1239, 'local': 1240, 'quite': 1241, 'cover': 1242, 'livingstone': 1243, 'eyed': 1244, 'reaching': 1245, 'letter': 1246, 'fuck': 1247, \"hell's\": 1248, 'polychronopolous': 1249, 'fighting': 1250, 'mouth': 1251, 'dust': 1252, 'souls': 1253, 'fears': 1254, 'appetite': 1255, 'crime': 1256, \"burnin'\": 1257, 'forty': 1258, \"day's\": 1259, \"workin'\": 1260, 'lines': 1261, 'highest': 1262, 'sin': 1263, 'gypsy': 1264, \"losin'\": 1265, 'drag': 1266, 'whose': 1267, \"runnin'\": 1268, \"foolin'\": 1269, 'pandora': 1270, 'tramp': 1271, 'cutie': 1272, 'mam': 1273, 'rocket': 1274, 'boogie': 1275, 'followed': 1276, 'gritty': 1277, 'screw': 1278, 'spiderman': 1279, 'lingers': 1280, 'tip': 1281, 'na': 1282, \"lyin'\": 1283, 'foolish': 1284, 'beaten': 1285, 'daybreak': 1286, 'wonderful': 1287, 'slowly': 1288, 'stuff': 1289, 'cheap': 1290, 'feels': 1291, 'sender': 1292, 'surrender': 1293, 'secrets': 1294, 'casting': 1295, 'bags': 1296, 'sorrow': 1297, 'quiet': 1298, 'emptiness': 1299, 'dreamed': 1300, 'stupid': 1301, \"waitin'\": 1302, 'borrow': 1303, 'friday': 1304, 'swing': 1305, 'tambourine': 1306, 'changing': 1307, 'chat': 1308, 'flash': 1309, 'wo': 1310, 'spell': 1311, 'places': 1312, 'calls': 1313, 'atras': 1314, 'tu': 1315, 'yo': 1316, 'por': 1317, 'flower': 1318, 'diamond': 1319, 'goodnight': 1320, 'falls': 1321, 'peaceful': 1322, 'images': 1323, 'winds': 1324, 'loneliness': 1325, 'eternity': 1326, 'happen': 1327, 'beach': 1328, 'thinks': 1329, 'depend': 1330, 'trace': 1331, 'hesitation': 1332, 'unknown': 1333, 'setting': 1334, 'pace': 1335, 'til': 1336, 'broke': 1337, 'paid': 1338, 'worse': 1339, 'action': 1340, 'colors': 1341, 'telling': 1342, 'nearly': 1343, 'dizzy': 1344, 'among': 1345, 'attraction': 1346, 'skyline': 1347, 'energy': 1348, 'neon': 1349, 'lets': 1350, 'straight': 1351, 'joke': 1352, 'familiar': 1353, 'married': 1354, 'frightening': 1355, 'scares': 1356, 'coward': 1357, 'family': 1358, \"thinkin'\": 1359, 'restless': 1360, 'bills': 1361, 'pet': 1362, 'happening': 1363, 'brought': 1364, 'delight': 1365, 'adore': 1366, 'beams': 1367, 'facing': 1368, 'touching': 1369, 'dreadful': 1370, 'chest': 1371, 'safe': 1372, 'scared': 1373, 'haa': 1374, 'stuck': 1375, 'given': 1376, 'lots': 1377, 'dirty': 1378, 'glow': 1379, 'brokenhearted': 1380, 'parted': 1381, 'slam': 1382, \"girl's\": 1383, 'fat': 1384, 'lunch': 1385, 'spider': 1386, 'boss': 1387, 'conscience': 1388, 'most': 1389, 'fights': 1390, 'stands': 1391, 'moods': 1392, 'inspiration': 1393, 'combination': 1394, 'freak': 1395, 'ideas': 1396, 'motion': 1397, 'flowing': 1398, 'urge': 1399, 'ahead': 1400, 'week': 1401, 'shot': 1402, 'dame': 1403, 'fan': 1404, 'nee': 1405, 'company': 1406, \"who's\": 1407, 'cares': 1408, 'kick': 1409, 'reeling': 1410, 'flies': 1411, 'eternal': 1412, 'throat': 1413, 'moonlight': 1414, 'renee': 1415, 'weary': 1416, 'sleeping': 1417, 'playground': 1418, 'flown': 1419, 'affair': 1420, 'baa': 1421, 'bringing': 1422, 'honesty': 1423, 'marry': 1424, 'certain': 1425, 'paper': 1426, 'gotten': 1427, 'opened': 1428, 'aim': 1429, 'disgrace': 1430, 'impossible': 1431, 'case': 1432, 'hills': 1433, 'minds': 1434, 'frozen': 1435, 'books': 1436, 'muffled': 1437, 'noises': 1438, 'louder': 1439, 'irritation': 1440, 'fainting': 1441, 'trembling': 1442, 'terror': 1443, 'escaping': 1444, 'played': 1445, 'spotlight': 1446, 'shape': 1447, 'candy': 1448, 'itself': 1449, 'won': 1450, 'refuse': 1451, 'natural': 1452, 'whom': 1453, 'fashion': 1454, 'twist': 1455, 'curl': 1456, 'whistle': 1457, 'mr': 1458, 'mudda': 1459, 'tasted': 1460, 'showed': 1461, 'steve': 1462, 'motherfucking': 1463, 'girlfriend': 1464, 'grab': 1465, 'hits': 1466, 'smoke': 1467, 'matters': 1468, 'lied': 1469, 'coat': 1470, 'miles': 1471, \"must've\": 1472, 'piece': 1473, 'steal': 1474, 'deepest': 1475, 'glory': 1476, \"kissin'\": 1477, 'fuse': 1478, 'check': 1479, 'woke': 1480, 'promises': 1481, 'bliss': 1482, 'drawn': 1483, 'pack': 1484, 'g': 1485, \"city's\": 1486, 'fist': 1487, 'hill': 1488, 'bay': 1489, \"she'll\": 1490, 'conversation': 1491, 'wears': 1492, 'tan': 1493, 'misery': 1494, 'touched': 1495, '88': 1496, 'woogie': 1497, 'flu': 1498, 'woe': 1499, 'unreal': 1500, 'finer': 1501, 'remind': 1502, \"real's\": 1503, \"stoppin'\": 1504, 'e': 1505, 'swore': 1506, 'notice': 1507, 'asked': 1508, 'less': 1509, 'confuse': 1510, 'mud': 1511, 'thicker': 1512, 'crashing': 1513, 'thoughts': 1514, 'graham': 1515, 'russell': 1516, 'lucky': 1517, 'lightly': 1518, 'butterflies': 1519, 'rotten': 1520, 'un': 1521, 'sucker': 1522, 'hiding': 1523, 'laughter': 1524, 'misunderstood': 1525, 'weave': 1526, 'grieving': 1527, 'feather': 1528, 'heartaches': 1529, 'hardly': 1530, 'guys': 1531, 'joe': 1532, \"diggin'\": 1533, 'disillusions': 1534, 'flirt': 1535, 'pretend': 1536, 'fuss': 1537, 'hearing': 1538, 'stories': 1539, 'beyond': 1540, 'wings': 1541, 'rides': 1542, 'seas': 1543, 'wing': 1544, 'grey': 1545, 'crossed': 1546, 'con': 1547, 'algo': 1548, 'habia': 1549, 'alrededor': 1550, 'quiza': 1551, 'claridad': 1552, 'brillaba': 1553, 'nosotros': 1554, 'dos': 1555, 'proteccion': 1556, 'pensabamos': 1557, 'jamas': 1558, 'perder': 1559, 'ni': 1560, 'echar': 1561, 'bus': 1562, 'downtown': 1563, 'grass': 1564, 'bend': 1565, 'daylight': 1566, 'fireplace': 1567, 'solitude': 1568, 'subdued': 1569, 'scenes': 1570, 'present': 1571, 'entwined': 1572, 'prolonged': 1573, 'flat': 1574, 'prays': 1575, 'skies': 1576, 'plain': 1577, 'alice': 1578, 'plans': 1579, 'vacation': 1580, 'neighbor': 1581, 'arrives': 1582, 'jungles': 1583, 'rushing': 1584, 'gauntlet': 1585, 'lace': 1586, 'extreme': 1587, 'flow': 1588, 'stayed': 1589, 'worst': 1590, 'cursed': 1591, 'office': 1592, 'pool': 1593, 'whispered': 1594, 'welcome': 1595, 'chances': 1596, 'language': 1597, 'hotels': 1598, 'cocktail': 1599, 'smells': 1600, 'turmoil': 1601, 'cars': 1602, 'breathing': 1603, 'hungry': 1604, 'cope': 1605, 'fairy': 1606, 'fail': 1607, 'speaking': 1608, 'valley': 1609, 'hanging': 1610, 'houses': 1611, 'planned': 1612, 'dull': 1613, 'missed': 1614, 'courage': 1615, 'business': 1616, \"everything's\": 1617, 'pushed': 1618, 'string': 1619, 'pirouette': 1620, 'control': 1621, 'agree': 1622, 'twenty': 1623, 'prove': 1624, 'killer': 1625, 'gorilla': 1626, 'landslide': 1627, 'affairs': 1628, 'riding': 1629, 'slide': 1630, 'smoking': 1631, 'wasting': 1632, 'spring': 1633, 'buried': 1634, 'snow': 1635, 'papers': 1636, 'result': 1637, 'kissing': 1638, 'resist': 1639, 'count': 1640, 'limousine': 1641, 'double': 1642, 'bothered': 1643, 'wildest': 1644, 'kids': 1645, 'liked': 1646, \"shouldn't\": 1647, 'unique': 1648, 'course': 1649, 'act': 1650, 'prison': 1651, 'penny': 1652, 'ahaaa': 1653, 'search': 1654, 'travelled': 1655, 'image': 1656, 'posses': 1657, 'bless': 1658, 'shy': 1659, 'human': 1660, 'rights': 1661, 'state': 1662, 'bar': 1663, 'begin': 1664, \"'till\": 1665, \"changin'\": 1666, 'paris': 1667, 'talked': 1668, 'walks': 1669, 'worries': 1670, 'hero': 1671, 'drop': 1672, 'sombrero': 1673, 'dressed': 1674, 'fans': 1675, 'stare': 1676, 'badly': 1677, \"baby's\": 1678, 'yours': 1679, 'halfway': 1680, 'palm': 1681, 'message': 1682, 'capture': 1683, 'freeze': 1684, \"money's\": 1685, 'waking': 1686, 'horns': 1687, 'bugler': 1688, 'distance': 1689, 'thunder': 1690, 'block': 1691, \"mama's\": 1692, 'began': 1693, 'whoever': 1694, 'letters': 1695, 'seventh': 1696, 'noticed': 1697, 'food': 1698, 'disaster': 1699, 'clumsy': 1700, 'summoned': 1701, 'south': 1702, 'west': 1703, 'tearing': 1704, 'evergrowing': 1705, 'finding': 1706, 'ice': 1707, 'glowing': 1708, 'tighter': 1709, 'defenses': 1710, 'rescue': 1711, \"c'est\": 1712, 'fading': 1713, 'stranger': 1714, 'defeated': 1715, 'war': 1716, 'stronger': 1717, 'milk': 1718, 'cookies': 1719, 'sacrificed': 1720, 'nile': 1721, 'putting': 1722, 'themselves': 1723, 'chill': 1724, 'pie': 1725, 'class': 1726, 'lesson': 1727, 'locked': 1728, 'according': 1729, 'mental': 1730, 'against': 1731, 'tone': 1732, 'colour': 1733, 'laudate': 1734, 'race': 1735, 'forgot': 1736, 'sincere': 1737, 'stops': 1738, 'raining': 1739, 'gee': 1740, 'clothes': 1741, 'bitch': 1742, 'tin': 1743, 'spent': 1744, \"fuckin'\": 1745, 'slice': 1746, \"name's\": 1747, 'pants': 1748, 'extra': 1749, 'club': 1750, 'bouncer': 1751, 'stinky': 1752, 'thumbs': 1753, 'arbuckle': 1754, 'cost': 1755, 'jack': 1756, 'son': 1757, 'weed': 1758, 'note': 1759, 'wrote': 1760, 'seam': 1761, 'lump': 1762, 'outro': 1763, 'bare': 1764, 'doorstep': 1765, 'melt': 1766, 'stays': 1767, 'ooooohh': 1768, 'weak': 1769, 'which': 1770, 'tidy': 1771, 'burnt': 1772, 'drunk': 1773, 'older': 1774, 'mistakes': 1775, 'survive': 1776, \"missin'\": 1777, 'biscuits': 1778, 'oven': 1779, 'hallelujah': 1780, 'glass': 1781, 'tail': 1782, 'checkmate': 1783, 'ho': 1784, \"callin'\": 1785, 'knife': 1786, 'eats': 1787, \"beggin'\": 1788, 'brand': 1789, 'threw': 1790, 'lust': 1791, 'rattlesnake': 1792, 'speed': 1793, 'ran': 1794, 'plague': 1795, \"holdin'\": 1796, \"world's\": 1797, 'tenderness': 1798, 'survives': 1799, 'tea': 1800, 'dogs': 1801, 'hush': 1802, 'boot': 1803, 'grin': 1804, \"mornin'\": 1805, \"makin'\": 1806, 'dreamer': 1807, 'carriage': 1808, 'sold': 1809, 'pleasure': 1810, 'trial': 1811, \"kickin'\": 1812, 'needle': 1813, 'backstage': 1814, 'police': 1815, 'insanity': 1816, 'awful': 1817, 'fault': 1818, 'coffee': 1819, 'loss': 1820, \"hangin'\": 1821, 'clean': 1822, 'cherry': 1823, 'wrap': 1824, 'waters': 1825, 'huh': 1826, 'gain': 1827, 'shall': 1828, 'strangest': 1829, 'nitty': 1830, 'load': 1831, 'explode': 1832, 'comic': 1833, \"tryin'\": 1834, 'web': 1835, 'prayed': 1836, \"somebody's\": 1837, 'danced': 1838, 'sets': 1839, '103': 1840, '4': 1841, '5': 1842, 'leads': 1843, \"there'd\": 1844, 'leap': 1845, 'bends': 1846, 'ay': 1847, 'thru': 1848, 'medicine': 1849, 'quick': 1850, 'boo': 1851, 'pretending': 1852, 'breaks': 1853, 'succeed': 1854, 'happiness': 1855, 'sinking': 1856, 'compromise': 1857, 'reasons': 1858, 'evidence': 1859, 'automatic': 1860, 'smiles': 1861, 'gently': 1862, 'lousy': 1863, 'packing': 1864, 'intention': 1865, 'dimension': 1866, 'advice': 1867, 'selfish': 1868, 'tool': 1869, 'showing': 1870, 'throwing': 1871, 'hoot': 1872, 'holler': 1873, 'deal': 1874, 'bridges': 1875, 'counting': 1876, 'shouting': 1877, 'believed': 1878, 'sailing': 1879, 'father': 1880, 'watched': 1881, 'sails': 1882, 'slack': 1883, 'scars': 1884, 'closing': 1885, 'chills': 1886, \"tonight's\": 1887, \"music's\": 1888, 'teaser': 1889, 'circle': 1890, \"disillusion's\": 1891, 'scar': 1892, 'shared': 1893, 'violin': 1894, 'listened': 1895, 'spread': 1896, 'mountains': 1897, 'forests': 1898, 'limit': 1899, 'guiding': 1900, 'afar': 1901, 'prepared': 1902, 'roar': 1903, 'liberty': 1904, 'escuchar': 1905, 'una': 1906, 'se': 1907, 'el': 1908, 'hoy': 1909, 'depressed': 1910, 'bumble': 1911, 'bee': 1912, 'lazy': 1913, 'haze': 1914, 'rustling': 1915, 'trapped': 1916, 'awaited': 1917, 'twelve': 1918, 'swimming': 1919, 'champagne': 1920, 'ashes': 1921, 'okay': 1922, 'dragging': 1923, 'praying': 1924, 'compassion': 1925, 'begging': 1926, 'driftwood': 1927, 'misfortune': 1928, 'las': 1929, 'vegas': 1930, 'burden': 1931, 'weighed': 1932, 'machine': 1933, 'beast': 1934, 'simple': 1935, 'revelation': 1936, 'spreading': 1937, 'irresistible': 1938, 'creature': 1939, 'blend': 1940, 'glamor': 1941, 'crowded': 1942, 'melting': 1943, 'pot': 1944, 'shopping': 1945, 'tale': 1946, 'mile': 1947, 'beauty': 1948, 'healing': 1949, 'farce': 1950, 'ancient': 1951, 'grand': 1952, 'intrusion': 1953, 'explanation': 1954, 'homes': 1955, 'wise': 1956, 'expecting': 1957, 'surprises': 1958, 'buses': 1959, \"night's\": 1960, \"starin'\": 1961, 'outward': 1962, 'taught': 1963, 'complain': 1964, 'photograph': 1965, 'k': 1966, 'release': 1967, 'excite': 1968, 'pleading': 1969, 'stage': 1970, 'success': 1971, 'arrive': 1972, 'reading': 1973, 'bet': 1974, 'shout': 1975, 'beating': 1976, 'tom': 1977, 'jungle': 1978, 'funky': 1979, 'fingertips': 1980, 'compared': 1981, 'nightmare': 1982, \"mem'ries\": 1983, 'jealous': 1984, 'overturned': 1985, 'sharing': 1986, 'devotion': 1987, 'sensible': 1988, 'dreary': 1989, 'lighter': 1990, 'enjoy': 1991, 'ahh': 1992, 'angry': 1993, 'bell': 1994, 'bill': 1995, 'caviar': 1996, 'cobweb': 1997, 'hammer': 1998, 'deals': 1999, 'lake': 2000, 'climbing': 2001, 'football': 2002, 'acting': 2003, 'mess': 2004, 'fork': 2005, 'pan': 2006, 'gamble': 2007, 'ad': 2008, 'difference': 2009, 'worn': 2010, 'separate': 2011, 'sincerely': 2012, 'reflections': 2013, 'cheeks': 2014, 'x4': 2015, 'catches': 2016, 'row': 2017, 'often': 2018, 'bore': 2019, 'darker': 2020, 'exactly': 2021, 'breakfast': 2022, 'helpless': 2023, 'realize': 2024, 'herself': 2025, 'philosophy': 2026, 'seine': 2027, 'remain': 2028, 'sat': 2029, 'age': 2030, 'tourist': 2031, 'jam': 2032, 'notre': 2033, 'restaurants': 2034, 'croissants': 2035, 'bank': 2036, 'harmony': 2037, 'female': 2038, 'saddle': 2039, 'sunset': 2040, 'fashioned': 2041, 'meek': 2042, \"who'll\": 2043, 'headline': 2044, 'impatiently': 2045, 'understood': 2046, 'clever': 2047, 'bought': 2048, 'banner': 2049, \"fool's\": 2050, 'toes': 2051, 'balloon': 2052, 'wrapped': 2053, 'cocoon': 2054, 'harm': 2055, 'bluest': 2056, 'calm': 2057, 'schoolbag': 2058, 'waving': 2059, 'absent': 2060, 'minded': 2061, 'guilt': 2062, 'tricks': 2063, 'dazing': 2064, 'stirring': 2065, 'pale': 2066, 'grip': 2067, 'december': 2068, 'march': 2069, 'rumble': 2070, 'sidewalks': 2071, 'giant': 2072, 'dynamo': 2073, 'folks': 2074, 'scattered': 2075, 'laughed': 2076, \"'cos\": 2077, 'waste': 2078, 'disguise': 2079, 'toy': 2080, 'eight': 2081, 'station': 2082, 'due': 2083, 'top': 2084, 'lit': 2085, 'rule': 2086, 'frame': 2087, 'stopped': 2088, 'french': 2089, 'bashful': 2090, 'valleys': 2091, 'sub': 2092, 'luna': 2093, 'saltamus': 2094, 'dare': 2095, 'violence': 2096, 'loser': 2097, 'gods': 2098, 'decide': 2099, 'self': 2100, 'alleys': 2101, 'wander': 2102, 'paradise': 2103, 'wife': 2104, 'sounded': 2105, 'purest': 2106, 'meeting': 2107, 'troubles': 2108, 'masters': 2109, 'tame': 2110, 'repeating': 2111, 'fellas': 2112, 'neither': 2113, 'nor': 2114, 'sex': 2115, 'humble': 2116, 'calmly': 2117, 'crossroads': 2118, 'trance': 2119, 'lonesome': 2120, 'parts': 2121, 'ticket': 2122, 'existence': 2123, 'mystery': 2124, 'problem': 2125, \"someone's\": 2126, 'twosome': 2127, 'fit': 2128, 'wheels': 2129, 'connie': 2130, 'walker': 2131, 'model': 2132, 'magnificat': 2133, 'secula': 2134, 'et': 2135, 'burned': 2136, 'thirst': 2137, 'catcher': 2138, 'rye': 2139, 'ohh': 2140, 'hmmm': 2141, 'pray': 2142, 'seven': 2143, 'iberian': 2144, 'hustle': 2145, 'purpose': 2146, 'flee': 2147, 'fadda': 2148, 'camp': 2149, 'granada': 2150, 'reads': 2151, 'scare': 2152, 'fudda': 2153, 'bear': 2154, 'fucks': 2155, 'garbage': 2156, 'adam': 2157, 'pipe': 2158, 'hype': 2159, 'bows': 2160, 'minutes': 2161, 'naked': 2162, 'ed': 2163, 'wicked': 2164, 'blew': 2165, 'wire': 2166, 'pizza': 2167, 'shoe': 2168, 'ordered': 2169, 'swear': 2170, 'wear': 2171, 'seat': 2172, 'dad': 2173, 'pansy': 2174, 'brains': 2175, \"brother's\": 2176, 'parachute': 2177, 'fries': 2178, 'opening': 2179, 'towards': 2180, 'f1': 2181, 'tennis': 2182, 'actor': 2183, 'rings': 2184, 'hi': 2185, 'boat': 2186, 'balls': 2187, 'musta': 2188, 'drinking': 2189, 'kid': 2190, 'grows': 2191, 'dope': 2192, 'already': 2193, 'cruel': 2194, 'platter': 2195, 'faked': 2196, 'favorite': 2197, 'daydreamer': 2198, 'jaw': 2199, 'shelter': 2200, \"time's\": 2201, 'california': 2202, 'moves': 2203, 'burst': 2204, 'bleed': 2205, 'whiskey': 2206, 'cuts': 2207, 'ones': 2208, 'uninvited': 2209, 'hoped': 2210, 'reminded': 2211, 'bestselling': 2212, 'section': 2213, 'poor': 2214, 'babay': 2215, 'kissin': 2216, 'kitchen': 2217, 'tickle': 2218, 'dumplin': 2219, 'wet': 2220, 'mail': 2221, 'hound': 2222, \"head's\": 2223, 'toss': 2224, \"bitchin'\": 2225, 'pills': 2226, 'rude': 2227, \"eatin'\": 2228, 'idea': 2229, \"ol'\": 2230, \"else's\": 2231, 'agreed': 2232, \"jones'\": 2233, \"in'\": 2234, \"dt's\": 2235, 'guarantees': 2236, 'major': 2237, 'minor': 2238, 'microphone': 2239, 'lip': 2240, 'booze': 2241, 'bass': 2242, 'asleep': 2243, 'sir': 2244, \"suckin'\": 2245, 'moonshine': 2246, 'clothesline': 2247, 'cha': 2248, 'chicks': 2249, 'chain': 2250, \"drinkin'\": 2251, 'square': 2252, 'gin': 2253, 'undone': 2254, \"lightnin'\": 2255, 'believes': 2256, \"pullin'\": 2257, 'slip': 2258, 'jury': 2259, 'swinging': 2260, 'erase': 2261, \"heart's\": 2262, 'ignorance': 2263, 'rocker': 2264, 'habit': 2265, 'shotgun': 2266, 'screams': 2267, 'repeats': 2268, 'fake': 2269, \"catchin'\": 2270, \"shootin'\": 2271, 'dragon': 2272, 'wagon': 2273, \"hadn't\": 2274, 'meltdown': 2275, 'numbs': 2276, 'battle': 2277, 'nature': 2278, 'genocide': 2279, \"screamin'\": 2280, 'crystal': 2281, 'sack': 2282, 'skinny': 2283, 'legs': 2284, 'buttered': 2285, 'whatcha': 2286, 'popcorn': 2287, 'cheese': 2288, 'cake': 2289, 'level': 2290, 'universe': 2291, \"pissin'\": 2292, 'pinball': 2293, 'wizard': 2294, 'tilt': 2295, 'bozo': 2296, 'trekkie': 2297, 'warp': 2298, 'julio': 2299, 'afrokeluchie': 2300, \"countin'\": 2301, 'boots': 2302, 'rider': 2303, 'godiva': 2304, 'mon': 2305, 'ami': 2306, 'sweeter': 2307, 'honeybee': 2308, 'rubs': 2309, 'liar': 2310, 'lock': 2311, 'disease': 2312, 'kansas': 2313, 'flamingo': 2314, 'foot': 2315, 'score': 2316, 'ill': 2317, 'piled': 2318, 'lame': 2319, 'ears': 2320, 'concubine': 2321, 'thieves': 2322, 'tasteless': 2323, 'champ': 2324, 'shady': 2325, 'cop': 2326, 'suit': 2327, \"women's\": 2328, 'liberation': 2329, 'aura': 2330, 'smell': 2331, 'flora': 2332, 'permanent': 2333, 'kite': 2334, 'ffff': 2335, \"'twas\": 2336, 'cord': 2337, 'reached': 2338, 'talkabubi': 2339, 'dedumdudidudi': 2340, 'lizzy': 2341, 'rats': 2342, 'cellar': 2343, \"skin's\": 2344, \"turnin'\": 2345, 'connection': 2346, 'cozy': 2347, 'fucked': 2348, 'unlock': 2349, 'lemme': 2350, 'inviting': 2351, 'cheek': 2352, 'green': 2353, 'burn': 2354, 'yea': 2355, 'spot': 2356, 'rub': 2357, \"takin'\": 2358, \"spinnin'\": 2359, \"knockin'\": 2360, 'direction': 2361, 'insignus': 2362, 'wither': 2363, 'sadly': 2364, 'borrowed': 2365, 'sedona': 2366, \"blowin'\": 2367, 'butt': 2368, \"sayin'\": 2369, 'guillotine': 2370, 'rot': 2371, \"'neath\": 2372, 'mend': 2373, 'tape': 2374, 'roared': 2375, 'keeper': 2376, 'deeper': 2377, 'karma': 2378, 'rabbit': 2379, 'saturday': 2380, \"marchin'\": 2381, 'yow': 2382, 'arm': 2383, 'buckle': 2384, 'straightjack': 2385, 'jellybean': 2386, 'thorazine': 2387, 'transcendental': 2388, 'lag': 2389, 'sanity': 2390, 'pifiata': 2391, 'punch': 2392, 'pigeonhole': 2393, 'shave': 2394, 'hare': 2395, 'krishna': 2396, 'tattoo': 2397, 'dot': 2398, 'prozac': 2399, 'fixer': 2400, 'brick': 2401, 'x3': 2402, 'bites': 2403, \"howlin'\": 2404, 'guide': 2405, 'triathlon': 2406, 'aleilujah': 2407, 'chromosone': 2408, 'superdome': 2409, 'prayer': 2410, 'handsome': 2411, 'lane': 2412, 'heave': 2413, 'goa': 2414, \"trippin'\": 2415, 'salty': 2416, 'gones': 2417, 'heavy': 2418, 'pissed': 2419, \"darlin'\": 2420, 'legendary': 2421, \"'scuse\": 2422, 'position': 2423, 'missionary': 2424, 'yah': 2425, 'sang': 2426, 'wandering': 2427, 'seats': 2428, 'telephone': 2429, 'alternate': 2430, 'sending': 2431, 'rivers': 2432, 'strangers': 2433, 'drifting': 2434, 'problems': 2435, 'storybook': 2436, 'prince': 2437, 'discovered': 2438, 'naive': 2439, 'dooo': 2440, 'spirit': 2441, 'either': 2442, 'greed': 2443, 'cup': 2444, \"winter's\": 2445, 'shore': 2446, 'oars': 2447, 'crawl': 2448, 'splendour': 2449, 'learning': 2450, 'spaces': 2451, 'understanding': 2452, 'pictures': 2453, 'springs': 2454, 'finger': 2455, 'whispering': 2456, 'closest': 2457, 'helps': 2458, 'touches': 2459, 'instrumental': 2460, 'manual': 2461, 'holds': 2462, 'squeezes': 2463, 'velvet': 2464, 'shimmer': 2465, 'float': 2466, 'creep': 2467, 'entitled': 2468, 'heel': 2469, 'christ': 2470, 'tedious': 2471, 'cutting': 2472, 'tie': 2473, \"neighbour's\": 2474, 'burying': 2475, 'hollow': 2476, 'suffer': 2477, 'sell': 2478, 'bargain': 2479, 'smart': 2480, 'aching': 2481, 'linger': 2482, 'deeply': 2483, 'thorough': 2484, 'harbor': 2485, 'deck': 2486, 'tiny': 2487, 'rigid': 2488, 'restrained': 2489, 'enchained': 2490, 'shoulder': 2491, 'rely': 2492, 'patch': 2493, 'tumbling': 2494, 'handle': 2495, 'disapeared': 2496, 'stunned': 2497, \"life's\": 2498, 'pavement': 2499, 'acted': 2500, 'couple': 2501, 'snowbird': 2502, 'wound': 2503, 'teasing': 2504, 'chick': 2505, 'cute': 2506, 'hollywood': 2507, 'charming': 2508, 'groovy': 2509, 'expectations': 2510, 'fed': 2511, 'acquisitions': 2512, 'practising': 2513, 'improve': 2514, 'everytime': 2515, 'exist': 2516, 'horizons': 2517, 'strangely': 2518, 'starry': 2519, 'firelight': 2520, 'humming': 2521, 'strumming': 2522, 'guitar': 2523, 'bugle': 2524, 'eternally': 2525, 'ashamed': 2526, 'guns': 2527, 'cannons': 2528, 'rifle': 2529, 'frightful': 2530, 'rio': 2531, 'grande': 2532, 'puedes': 2533, 'recuerda': 2534, 'tiempo': 2535, 'estrellas': 2536, 'noche': 2537, 'alla': 2538, 'lumbre': 2539, 'azul': 2540, 'tarareabas': 2541, 'cancion': 2542, 'ese': 2543, 'suave': 2544, 'guitarrear': 2545, 'podia': 2546, 'esos': 2547, 'tambores': 2548, 'sordo': 2549, 'redoblar': 2550, 'acercaban': 2551, 'mas': 2552, 'momento': 2553, 'pasaba': 2554, 'parecia': 2555, 'eternidad': 2556, 'senti': 2557, 'temor': 2558, 'vida': 2559, 'juventud': 2560, 'nadie': 2561, 'pensaba': 2562, 'morir': 2563, 'siento': 2564, 'verguenza': 2565, 'al': 2566, 'confesar': 2567, 'tuve': 2568, 'ganas': 2569, 'llorar': 2570, 'vejez': 2571, 'llego': 2572, 'ella': 2573, 'paz': 2574, 'logramos': 2575, 'disfrutar': 2576, 'durmio': 2577, 'tambor': 2578, 'paraciera': 2579, 'fue': 2580, 'ayer': 2581, 'vivimos': 2582, 'tus': 2583, 'ojos': 2584, 'veo': 2585, 'aun': 2586, 'aquel': 2587, 'orgullo': 2588, 'refleja': 2589, 'valor': 2590, 'repeata': 2591, 'travelling': 2592, 'sip': 2593, 'railroad': 2594, 'bum': 2595, 'outdoors': 2596, 'chew': 2597, 'straw': 2598, \"glitt'ring\": 2599, 'milky': 2600, 'raindrops': 2601, 'pane': 2602, 'stillness': 2603, 'silently': 2604, 'drifts': 2605, 'curtins': 2606, 'backs': 2607, 'echoes': 2608, 'warms': 2609, 't': 2610, 'v': 2611, 'gaze': 2612, 'gentleness': 2613, 'rubbing': 2614, 'patient': 2615, 'consolation': 2616, 'hmm': 2617, 'miracle': 2618, 'lingered': 2619, \"autumn's\": 2620, 'chilly': 2621, 'drove': 2622, 'airport': 2623, 'surfing': 2624, 'enjoying': 2625, 'card': 2626, 'greeting': 2627, 'descend': 2628, 'fireworks': 2629, 'unlike': 2630, \"now's\": 2631, 'brave': 2632, 'thrives': 2633, 'clay': 2634, 'astray': 2635, 'confetti': 2636, 'decade': 2637, 'eighty': 2638, 'benny': 2639, 'fighter': 2640, 'trend': 2641, 'personal': 2642, 'tend': 2643, 'admire': 2644, 'courageous': 2645, 'constantly': 2646, 'speaks': 2647, 'pats': 2648, 'exert': 2649, 'strands': 2650, 'destined': 2651, \"bustin'\": 2652, 'dam': 2653, 'shoreline': 2654, 'carried': 2655, 'trade': 2656, 'favours': 2657, 'spun': 2658, 'wheel': 2659, 'scored': 2660, 'banks': 2661, 'cent': 2662, 'blessed': 2663, 'sam': 2664, 'chauffeur': 2665, 'annie': 2666, 'jerry': 2667, 'works': 2668, 'sue': 2669, 'weekends': 2670, 'romantic': 2671, 'thrills': 2672, 'stick': 2673, 'rid': 2674, 'type': 2675, 'vibrant': 2676, 'electrified': 2677, 'contribution': 2678, 'feed': 2679, 'worship': 2680, 'homage': 2681, 'dazzled': 2682, 'grabbing': 2683, 'pieces': 2684, 'fatted': 2685, 'calf': 2686, 'parks': 2687, 'squares': 2688, 'destination': 2689, 'poet': 2690, 'acquainted': 2691, 'restrains': 2692, 'shallow': 2693, 'alley': 2694, 'urging': 2695, 'defeat': 2696, 'illusion': 2697, 'disturbance': 2698, 'wistful': 2699, 'seduce': 2700, 'dies': 2701, 'reservation': 2702, 'appointments': 2703, 'busy': 2704, 'temper': 2705, 'refuge': 2706, 'puppet': 2707, 'refugee': 2708, 'manage': 2709, 'possibly': 2710, 'glasgow': 2711, 'moments': 2712, 'su': 2713, 'troo': 2714, \"watchin'\": 2715, 'mistaking': 2716, \"'n\": 2717, 'gorillas': 2718, 'waddle': 2719, 'carefree': 2720, 'rooms': 2721, 'potential': 2722, 'threat': 2723, 'possessive': 2724, 'vice': 2725, 'shooting': 2726, 'duck': 2727, 'smalltalk': 2728, 'unsatisfied': 2729, 'skip': 2730, 'scarce': 2731, 'incomprehensible': 2732, 'treated': 2733, 'presents': 2734, 'hat': 2735, 'hated': 2736, 'windows': 2737, 'yard': 2738, 'whiter': 2739, 'decided': 2740, 'traffic': 2741, 'physician': 2742, 'discovery': 2743, \"this'\": 2744, 'backed': 2745, 'claiming': 2746, 'longevity': 2747, 'factor': 2748, 'dynamite': 2749, 'drug': 2750, 'fifty': 2751, 'ninety': 2752, 'pays': 2753, 'cigar': 2754, 'belly': 2755, 'lobster': 2756, 'vintage': 2757, 'peer': 2758, 'servants': 2759, 'mansion': 2760, 'quarreled': 2761, 'jekyll': 2762, 'hyde': 2763, 'toyed': 2764, 'dr': 2765, 'freud': 2766, 'applies': 2767, 'split': 2768, 'identity': 2769, 'vain': 2770, 'ding': 2771, 'dong': 2772, 'marching': 2773, 'houston': 2774, 'sheriff': 2775, 'arrest': 2776, 'wealthy': 2777, 'monaco': 2778, 'voyager': 2779, 'settler': 2780, 'goal': 2781, 'explore': 2782, 'heavens': 2783, 'country': 2784, 'journey': 2785, 'ripples': 2786, 'surface': 2787, 'seagulls': 2788, 'hover': 2789, 'follows': 2790, 'phrase': 2791, 'longest': 2792, 'sneak': 2793, 'loudest': 2794, 'record': 2795, 'pa': 2796, 'fred': 2797, 'blushing': 2798, 'suppose': 2799, 'mornings': 2800, 'uncertain': 2801, 'feller': 2802, 'respect': 2803, 'impending': 2804, 'doom': 2805, 'wary': 2806, 'minister': 2807, 'flirty': 2808, 'advantage': 2809, 'shook': 2810, 'casual': 2811, 'stroll': 2812, 'unable': 2813, 'somethimes': 2814, 'cling': 2815, 'desperate': 2816, 'daydreams': 2817, 'suffering': 2818, \"till'\": 2819, 'passed': 2820, 'romances': 2821, 'robbing': 2822, 'rightful': 2823, 'dealt': 2824, 'concealed': 2825, 'stubborn': 2826, 'misconceiving': 2827, 'strolling': 2828, 'elysee': 2829, 'cafe': 2830, 'politics': 2831, 'mona': 2832, 'lisa': 2833, 'eiffel': 2834, 'tower': 2835, 'harry': 2836, 'alway': 2837, 'matrimony': 2838, 'desert': 2839, 'bandana': 2840, 'showdown': 2841, 'bold': 2842, 'vacquero': 2843, 'disappearing': 2844, 'unchained': 2845, 'cowboys': 2846, 'senorita': 2847, 'harshly': 2848, 'cavaliero': 2849, 'bending': 2850, 'digging': 2851, 'hotel': 2852, 'mistaken': 2853, 'gentle': 2854, \"rock'n'roll\": 2855, 'cheer': 2856, 'poster': 2857, 'legend': 2858, 'bandstand': 2859, 'dreamland': 2860, 'clapping': 2861, 'jumping': 2862, 'screaming': 2863, 'towering': 2864, 'seriously': 2865, 'droning': 2866, 'striped': 2867, 'pyjamas': 2868, 'trousers': 2869, 'carries': 2870, 'dangerously': 2871, 'indifferent': 2872, 'rambles': 2873, 'zoo': 2874, 'coconuts': 2875, 'surge': 2876, 'sadness': 2877, 'entering': 2878, 'barely': 2879, 'odd': 2880, 'melancholy': 2881, 'adventures': 2882, 'sulk': 2883, 'signs': 2884, 'drawing': 2885, 'storm': 2886, 'approaching': 2887, 'blinding': 2888, 'sign': 2889, 'points': 2890, 'forced': 2891, 'chose': 2892, 'haunt': 2893, 'impatience': 2894, 'creeping': 2895, 'spine': 2896, 'elusive': 2897, 'glitter': 2898, 'litter': 2899, 'remembering': 2900, 'worry': 2901, 'probably': 2902, 'talent': 2903, 'listens': 2904, 'grateful': 2905, 'dancer': 2906, 'wondered': 2907, 'golden': 2908, 'seek': 2909, 'mild': 2910, 'tales': 2911, 'nothings': 2912, 'ear': 2913, 'sympathy': 2914, 'dove': 2915, 'editorial': 2916, 'frowned': 2917, 'desk': 2918, 'heaps': 2919, 'signed': 2920, 'bunch': 2921, 'rained': 2922, 'cigarette': 2923, 'exception': 2924, 'routine': 2925, 'finished': 2926, 'undoubtedly': 2927, \"o'clock\": 2928, 'chinese': 2929, 'episode': 2930, 'dallas': 2931, 'latest': 2932, 'marilyn': 2933, 'yawned': 2934, 'cuddled': 2935, 'rattling': 2936, 'roof': 2937, \"pushin'\": 2938, 'throne': 2939, 'invited': 2940, 'plains': 2941, 'struggled': 2942, 'north': 2943, 'parish': 2944, 'priest': 2945, 'longed': 2946, 'seduced': 2947, 'weapon': 2948, 'doorbell': 2949, 'panic': 2950, 'ominously': 2951, 'numb': 2952, 'dearly': 2953, 'paintings': 2954, 'furniture': 2955, \"signal's\": 2956, 'sounding': 2957, 'tries': 2958, 'knob': 2959, 'stupidly': 2960, 'impatient': 2961, 'meetings': 2962, 'witnessed': 2963, 'anguish': 2964, 'humiliation': 2965, 'unexpected': 2966, 'hurting': 2967, 'cards': 2968, 'ace': 2969, 'victory': 2970, 'belonged': 2971, 'figured': 2972, 'fence': 2973, 'loses': 2974, 'obeyed': 2975, 'judges': 2976, 'abide': 2977, 'spectators': 2978, 'apologize': 2979, 'tense': 2980, 'confidence': 2981, 'beware': 2982, 'horrible': 2983, 'gardens': 2984, 'beaches': 2985, 'bluebirds': 2986, 'mellow': 2987, 'shade': 2988, 'trivial': 2989, 'occupation': 2990, 'cleaned': 2991, 'platforms': 2992, 'railway': 2993, 'wished': 2994, 'matrimonial': 2995, 'advertising': 2996, 'ages': 2997, 'whiting': 2998, 'husky': 2999, 'amazed': 3000, 'streak': 3001, \"he'd\": 3002, 'struck': 3003, 'thrilling': 3004, 'mutually': 3005, 'fulfilling': 3006, 'resistance': 3007, 'strategy': 3008, 'anger': 3009, 'persuade': 3010, 'definite': 3011, 'flattered': 3012, 'expectation': 3013, 'spark': 3014, 'offer': 3015, 'master': 3016, 'lightning': 3017, 'danger': 3018, 'napoleon': 3019, 'similiar': 3020, 'shelf': 3021, 'spacemen': 3022, 'toast': 3023, 'passage': 3024, 'instinctively': 3025, \"summer's\": 3026, 'treks': 3027, 'slightly': 3028, 'dignified': 3029, 'striving': 3030, 'generous': 3031, 'headed': 3032, 'untried': 3033, 'screamed': 3034, 'blush': 3035, 'petrified': 3036, 'leaning': 3037, 'laws': 3038, 'geometry': 3039, 'lean': 3040, 'quickly': 3041, 'traces': 3042, 'bahamas': 3043, 'petty': 3044, 'dramas': 3045, 'confusion': 3046, 'unwanted': 3047, 'entered': 3048, 'view': 3049, 'mesmerized': 3050, 'importantly': 3051, 'naturally': 3052, 'simon': 3053, 'garfunkel': 3054, 'romeo': 3055, 'juliet': 3056, 'pair': 3057, 'tragical': 3058, 'overcome': 3059, 'blocks': 3060, 'respond': 3061, 'glittering': 3062, 'sparkling': 3063, 'fulfill': 3064, 'texture': 3065, 'brightly': 3066, 'omnes': 3067, 'gentes': 3068, 'anima': 3069, 'mea': 3070, 'salvation': 3071, 'mankind': 3072, 'brotherhood': 3073, 'substitute': 3074, 'candlse': 3075, 'quench': 3076, 'stressed': 3077, 'ouuh': 3078, 'ooooooh': 3079, \"today'\": 3080, 'jailer': 3081, 'host': 3082, 'hides': 3083, 'agony': 3084, 'earn': 3085, 'consequences': 3086, 'colours': 3087, 'ohhh': 3088, 'looser': 3089, 'invite': 3090, 'normal': 3091, 'ghost': 3092, 'steps': 3093, 'bribe': 3094, 'essence': 3095, 'amends': 3096, 'romancing': 3097, \"father's\": 3098, 'page': 3099, 'shed': 3100, 'sinner': 3101, 'monster': 3102, 'gatekeeper': 3103, 'glimmer': 3104, \"moon's\": 3105, 'height': 3106, 'disclosure': 3107, 'flair': 3108, 'swoon': 3109, 'prisoner': 3110, 'entertaining': 3111, 'hiking': 3112, 'spivy': 3113, 'developed': 3114, 'poison': 3115, 'ivy': 3116, 'remeber': 3117, 'leonard': 3118, 'skinner': 3119, 'ptomaine': 3120, 'poisoning': 3121, 'counslers': 3122, 'waiters': 3123, 'alligators': 3124, 'coach': 3125, 'sissies': 3126, 'uylesses': 3127, 'bunk': 3128, 'mate': 3129, 'malaria': 3130, 'jeffery': 3131, 'hardy': 3132, 'organize': 3133, 'forest': 3134, 'eaten': 3135, 'dearest': 3136, \"how's\": 3137, 'brudda': 3138, 'aunt': 3139, 'bertha': 3140, 'hailing': 3141, 'gals': 3142, 'base': 3143, 'bedda': 3144, 'kindly': 3145, 'disregard': 3146, 'headin': 3147, 'bushes': 3148, \"motherfucker's\": 3149, 'wash': 3150, 'gangsters': 3151, \"where'd\": 3152, 'motherfucker': 3153, 'gunshots': 3154, 'basement': 3155, 'fooled': 3156, 'hehehe': 3157, 'diapers': 3158, 'stink': 3159, 'shittin': 3160, 'nothin': 3161, 'motherfuckin': 3162, 'untouchable': 3163, 'whooo': 3164, 'hoo': 3165, 'cindy': 3166, 'scott': 3167, 'newley': 3168, 'weds': 3169, 'whoop': 3170, 'ee': 3171, 'doo': 3172, 'cryyy': 3173, 'reds': 3174, 'pinks': 3175, \"thing's\": 3176, 'suurre': 3177, 'looove': 3178, 'punched': 3179, 'plenty': 3180, 'overnight': 3181, 'mailed': 3182, 'laced': 3183, 'lambasted': 3184, 'packed': 3185, 'sparked': 3186, 'backgammon': 3187, \"louie's\": 3188, \"bird's\": 3189, 'hysterically': 3190, 'moonwalk': 3191, 'tripped': 3192, 'toaster': 3193, 'beak': 3194, \"brain's\": 3195, 'erased': 3196, 'fried': 3197, 'bathtub': 3198, 'wanting': 3199, 'pepperoni': 3200, 'delivery': 3201, 'handed': 3202, 'baked': 3203, 'dick': 3204, 'beer': 3205, 'charley': 3206, 'horses': 3207, 'shorts': 3208, 'movies': 3209, 'yankee': 3210, 'piss': 3211, 'toilet': 3212, 'stoned': 3213, 'jacket': 3214, 'pussy': 3215, 'douchebag': 3216, 'gate': 3217, 'pimple': 3218, \"sister's\": 3219, 'stereo': 3220, 'performed': 3221, 'sandler': 3222, 'frank': 3223, 'randi': 3224, 'transcribed': 3225, 'bat': 3226, 'bottom': 3227, '6th': 3228, 'inning': 3229, 'league': 3230, 'pitch': 3231, 'baseball': 3232, 'ringing': 3233, 'skydiving': 3234, 'finnally': 3235, '40': 3236, 'm1': 3237, 'quit': 3238, 'ripcord': 3239, 'opens': 3240, 'moow': 3241, 'thud': 3242, 'chicken': 3243, 'drivethru': 3244, 'realising': 3245, 'bag': 3246, 'screeches': 3247, 'winning': 3248, 'prise': 3249, 'bellyflop': 3250, 'contest': 3251, 'realises': 3252, 'swim': 3253, 'splash': 3254, 'cheering': 3255, 'underwater': 3256, 'classy': 3257, 'strip': 3258, 'notices': 3259, 'm2': 3260, 'obvious': 3261, '3': 3262, 'mark': 3263, 'angle': 3264, 'receives': 3265, 'finds': 3266, 'practical': 3267, 'picks': 3268, 'reservations': 3269, 'fatty': 3270, 'slams': 3271, 'revenge': 3272, 'vehicle': 3273, 'mooooooooooooo': 3274, 'donnie': 3275, \"boat's\": 3276, 'fuckin': 3277, \"celtic's\": 3278, 'lockeroom': 3279, '50': 3280, 'gs': 3281, 'stole': 3282, 'storage': 3283, 'parking': 3284, 'shitten': 3285, 'paintjob': 3286, 'license': 3287, 'bingo': 3288, 'buzzed': 3289, 'worrying': 3290, 'eventually': 3291, 'snowmen': 3292, 'castles': 3293, \"growin'\": 3294, 'six': 3295, \"spellin'\": 3296, \"dwellin'\": 3297, 'couch': 3298, 'insist': 3299, \"bein'\": 3300, 'pothead': 3301, 'herb': 3302, 'reefer': 3303, 'hawaiian': 3304, 'vicious': 3305, 'asking': 3306, 'forgiveness': 3307, 'drift': 3308, 'crumbling': 3309, 'spinning': 3310, 'boils': 3311, 'strips': 3312, 'crazier': 3313, 'pacing': 3314, 'floors': 3315, 'soaking': 3316, 'dropper': 3317, 'subject': 3318, 'lends': 3319, 'plus': 3320, 'waits': 3321, 'describe': 3322, 'supposed': 3323, 'younger': 3324, 'typical': 3325, 'oceans': 3326, 'gravity': 3327, 'brushing': 3328, 'groove': 3329, 'delicate': 3330, 'ego': 3331, 'worlds': 3332, 'bricks': 3333, 'pulls': 3334, 'excusing': 3335, 'intentions': 3336, 'pretendings': 3337, 'desperately': 3338, 'link': 3339, 'build': 3340, 'sweeping': 3341, 'fills': 3342, 'ache': 3343, 'settled': 3344, 'raised': 3345, 'compares': 3346, 'bittersweet': 3347, 'newspaper': 3348, 'boycott': 3349, 'pressure': 3350, 'refrain': 3351, 'hook': 3352, 'drown': 3353, 'aaaah': 3354, 'buns': 3355, 'shortening': 3356, 'skillet': 3357, 'hambone': 3358, 'whet': 3359, 'bake': 3360, 'sop': 3361, 'gravy': 3362, 'dish': 3363, 'menu': 3364, 'dew': 3365, \"heaven's\": 3366, 'bees': 3367, 'saving': 3368, \"lightin'\": 3369, 'candles': 3370, 'astral': 3371, \"feet's\": 3372, 'drain': 3373, 'indian': 3374, 'net': 3375, 'rarely': 3376, 'vile': 3377, 'silver': 3378, \"singin'\": 3379, 'cowboy': 3380, 'salt': 3381, 'brine': 3382, 'ordinary': 3383, 'names': 3384, 'kicks': 3385, \"complainin'\": 3386, 'poodles': 3387, 'humor': 3388, 'shrinker': 3389, 'diet': 3390, 'bubble': 3391, 'junk': 3392, 'bonds': 3393, 'stiff': 3394, \"dancin'\": 3395, 'yacht': 3396, 'muff': 3397, 'biff': 3398, 'pearls': 3399, 'swine': 3400, 'attitudes': 3401, 'bellyache': 3402, 'rags': 3403, 'riches': 3404, 'inheritance': 3405, 'gray': 3406, 'poupon': 3407, \"yo'\": 3408, 'sling': 3409, 'cupid': 3410, 'chip': 3411, 'fantasize': 3412, 'libido': 3413, 'transistor': 3414, 'bbut': 3415, 'core': 3416, 'nouveau': 3417, 'riche': 3418, 'hypnotic': 3419, 'leash': 3420, 'badder': 3421, \"jonesin'\": 3422, 'rip': 3423, 'margarita': 3424, 'jail': 3425, \"electrica'\": 3426, \"guitar's\": 3427, 'cranked': 3428, 'gang': 3429, 'bangs': 3430, 'excuse': 3431, 'fangs': 3432, 'backseat': 3433, 'drugs': 3434, 'gas': 3435, 'buzz': 3436, 'd': 3437, 'lawn': 3438, 'pardon': 3439, 'gangster': 3440, 'ankles': 3441, 'fantasies': 3442, 'speculate': 3443, 'slave': 3444, \"master's\": 3445, 'bait': 3446, 'fright': 3447, 'dwight': 3448, \"'56\": 3449, 'cadillac': 3450, 'spare': 3451, 'tire': 3452, 'charge': 3453, 'account': 3454, 'classic': 3455, 'ghoul': 3456, 'liquor': 3457, 'mojo': 3458, 'whitford': 3459, 'pistol': 3460, 'graveyard': 3461, 'shoots': 3462, 'tombstone': 3463, 'bullets': 3464, 'tnt': 3465, 'dynomite': 3466, 'schoolboy': 3467, 'curly': 3468, 'lotta': 3469, 'janie': 3470, 'arrested': 3471, 'untrue': 3472, 'jacked': 3473, 'bitty': 3474, 'u': 3475, 'bullet': 3476, 'sleaze': 3477, 'cradle': 3478, \"robbin'\": 3479, 'ruby': 3480, 'desires': 3481, \"what'chor\": 3482, 'receive': 3483, 'pocket': 3484, 'dreamt': 3485, 'covers': 3486, 'fo': 3487, \"bettin'\": 3488, \"tossin'\": 3489, \"jacki's\": 3490, 'lingerie': 3491, \"'can\": 3492, \"'\": 3493, 'fax': 3494, 'penthouse': 3495, 'pauper': 3496, 'millionaire': 3497, 'talker': 3498, \"timin'\": 3499, 'stairway': 3500, 'sassafras': 3501, \"savin'\": 3502, 'teenage': 3503, 'friction': 3504, 'magazine': 3505, 'turnaround': 3506, \"rubbin'\": 3507, 'birddog': 3508, 'bareback': 3509, 'slap': 3510, \"lover's\": 3511, 'quarrels': 3512, \"wit'chor\": 3513, \"friend's\": 3514, \"believin'\": 3515, 'paranoia': 3516, 'person': 3517, 'fff': 3518, 'yeaah': 3519, 'list': 3520, \"laughin'\": 3521, 'primal': 3522, 'paying': 3523, 'dues': 3524, 'although': 3525, \"floatin'\": 3526, \"knowin'\": 3527, \"fadin'\": 3528, \"paradin'\": 3529, 'wag': 3530, 'perpetual': 3531, 'bald': 3532, 'egg': 3533, 'eighteen': 3534, 'stuffs': 3535, 'barren': 3536, 'dank': 3537, '25': 3538, 'buildings': 3539, 'stunk': 3540, 'ahhh': 3541, 'remembered': 3542, 'barefoot': 3543, 'tattered': 3544, 'coattails': 3545, 'rat': 3546, 'scrap': 3547, 'plate': 3548, 'fable': 3549, 'unstable': 3550, 'behold': 3551, 'foe': 3552, 'nostradamus': 3553, 'predicted': 3554, \"moanin'\": 3555, 'atoning': 3556, 'sins': 3557, 'ridden': 3558, 'shuts': 3559, 'blade': 3560, \"god's\": 3561, 'comin': 3562, 'loveliness': 3563, \"nightingale's\": 3564, 'singin': 3565, 'divorcee': 3566, 'repouise': 3567, 'teller': 3568, 'eyeballs': 3569, 'wrinkles': 3570, \"'you\": 3571, 'unless': 3572, \"back'\": 3573, 'leader': 3574, \"feedin'\": 3575, 'spoon': 3576, 'shack': 3577, \"dyin'\": 3578, \"'now'\": 3579, \"draggin'\": 3580, 'oooooh': 3581, 'ooooh': 3582, 'below': 3583, 'snorted': 3584, 'bleas': 3585, 'betty': 3586, 'boop': 3587, \"droolin'\": 3588, 'buzzing': 3589, 'hive': 3590, 'hooky': 3591, 'stead': 3592, \"schoolin'\": 3593, 'thirteen': 3594, 'hookers': 3595, 'junior': 3596, 'achivers': 3597, 'bull': 3598, 'breathes': 3599, 'hellfire': 3600, 'sadie': 3601, \"puss'n\": 3602, \"o'\": 3603, 'smokes': 3604, 'barbed': 3605, 'diamonds': 3606, 'heartbreaker': 3607, 'cheat': 3608, 'glue': 3609, 'fools': 3610, 'hooks': 3611, 'stains': 3612, 'ivorys': 3613, \"fallin'\": 3614, 'appart': 3615, 'seams': 3616, 'leaf': 3617, \"readin'\": 3618, 'gypsies': 3619, 'holiday': 3620, 'inns': 3621, 'stalemate': 3622, 'jailbait': 3623, 'reviews': 3624, 'barroom': 3625, \"slidin'\": 3626, 'screamer': 3627, 'marriage': 3628, 'aces': 3629, \"writin'\": 3630, 'nineteen': 3631, 'seventy': 3632, 'starters': 3633, \"max's\": 3634, 'johnny': 3635, \"o'toole\": 3636, 'clive': 3637, 'davis': 3638, 'choir': 3639, 'fires': 3640, 'fetal': 3641, 'vaccinate': 3642, 'scratch': 3643, 'calomine': 3644, \"sole's\": 3645, \"creakin'\": 3646, 'puerto': 3647, 'rican': 3648, \"ridin'\": 3649, 'axle': 3650, 'grease': 3651, \"coppin'\": 3652, 'justice': 3653, 'junkie': 3654, 'whore': 3655, 'topaz': 3656, 'sazzafrazz': 3657, 'corporation': 3658, 'jellyroll': 3659, 'singles': 3660, 'programmed': 3661, 'ascap': 3662, 'bmi': 3663, 'japanese': 3664, 'boil': 3665, 'teas': 3666, \"fuck's\": 3667, 'royalties': 3668, \"dreamin'\": 3669, 'lands': 3670, \"sinkin'\": 3671, 'prophets': 3672, \"stinkin'\": 3673, 'san': 3674, 'andreas': 3675, 'richters': 3676, 'noblemen': 3677, 'spoke': 3678, \"discouragin'\": 3679, 'hears': 3680, 'stilt': 3681, 'hilt': 3682, 'debris': 3683, 'showtime': 3684, \"o'clock's\": 3685, 'prone': 3686, 'snooze': 3687, 'shinning': 3688, \"fire's\": 3689, 'aah': 3690, 'ram': 3691, \"somethin'\": 3692, 'den': 3693, 'sly': 3694, 'lucked': 3695, \"woman's\": 3696, 'suffered': 3697, 'lesso': 3698, 'cheated': 3699, 'granted': 3700, 'sudden': 3701, 'severe': 3702, 'bogus': 3703, 'knowed': 3704, \"wastin'\": 3705, 'cagey': 3706, 'spike': 3707, \"'tude\": 3708, 'fruits': 3709, \"cruisin'\": 3710, 'venus': 3711, 'mars': 3712, \"lovin's\": 3713, 'aaar': 3714, 'bricka': 3715, 'braka': 3716, 'fiya': 3717, 'kraka': 3718, 'sis': 3719, 'bah': 3720, 'bra': 3721, 'sharp': 3722, 'carpet': 3723, 'tack': 3724, 'box': 3725, 'moderate': 3726, 'binge': 3727, \"catastrophe's\": 3728, 'lunatic': 3729, 'fringe': 3730, 'gander': 3731, 'tit': 3732, 'tat': 3733, 'hoof': 3734, 'endowed': 3735, \"fannie's\": 3736, 'operation': 3737, 'slicker': 3738, 'claim': 3739, 'fame': 3740, 'slitty': 3741, 'licker': 3742, 'montego': 3743, \"sky's\": 3744, 'lordie': 3745, 'sedation': 3746, 'pin': 3747, 'kinky': 3748, 'excess': 3749, 'baggage': 3750, 'freight': 3751, \"cummin'\": 3752, 'cayman': 3753, 'brack': 3754, 'firm': 3755, 'obsession': 3756, 'discover': 3757, 'bing': 3758, 'lingo': 3759, 'deco': 3760, 'umbrella': 3761, 'kink': 3762, 'sheets': 3763, 'crayon': 3764, 'biblical': 3765, 'noticing': 3766, 'connected': 3767, \"pony's\": 3768, 'gushed': 3769, 'hooved': 3770, 'fur': 3771, 'feathers': 3772, 'flew': 3773, 'exploding': 3774, 'tonne': 3775, 'blonde': 3776, 'suze': 3777, 'thirty': 3778, 'covered': 3779, 'courier': 3780, 'lank': 3781, 'youth': 3782, 'dededudidudu': 3783, \"rippin'\": 3784, \"throwin'\": 3785, \"babe's\": 3786, 'version': 3787, 'grape': 3788, 'vine': 3789, \"shufflin'\": 3790, 'tap': 3791, 'sloe': 3792, 'fizzy': 3793, 'runny': 3794, 'affection': 3795, 'complaining': 3796, \"insanin'\": 3797, 'rosy': 3798, 'soggy': 3799, 'pushin': 3800, 'daisies': 3801, 'schools': 3802, 'crash': 3803, 'lookie': 3804, \"'dem\": 3805, 'dem': 3806, '99': 3807, 'fingertip': 3808, 'gentlemen': 3809, 'elephant': 3810, 'bells': 3811, \"joe's\": 3812, 'solo': 3813, 'amused': 3814, 'purrs': 3815, 'blurs': 3816, 'navigate': 3817, 'chump': 3818, \"sump'n\": 3819, 'protege': 3820, 'nuclear': 3821, 'darkside': 3822, \"somthin'\": 3823, 'dune': 3824, 'rockets': 3825, 'admit': 3826, 'outer': 3827, 'fireball': 3828, 'feets': 3829, 'perry': 3830, \"baby'\": 3831, \"weren't\": 3832, 'sixteen': 3833, 'cooler': 3834, 'coincidental': 3835, 'murder': 3836, \"judge's\": 3837, 'constipation': 3838, \"wife's\": 3839, 'aggravation': 3840, 'gotcha': 3841, 'cocaine': 3842, 'smoothy': 3843, 'lawyer': 3844, 'getcha': 3845, \"lockin'\": 3846, 'rearrange': 3847, 'hurdy': 3848, 'gurdy': 3849, 'yayaya': 3850, 'sleepy': 3851, 'fireflies': 3852, 'awaken': 3853, 'responsibility': 3854, 'fired': 3855, 'sweaty': 3856, 'bones': 3857, 'grief': 3858, 'offered': 3859, \"gav'em\": 3860, \"touchin'\": 3861, 'hymn': 3862, 'oughta': 3863, 'trot': 3864, 'homely': 3865, 'starved': 3866, 'companionship': 3867, 'skinniest': 3868, 'sting': 3869, 'hung': 3870, \"wettin'\": 3871, 'weight': 3872, 'lend': 3873, 'define': 3874, 'dime': 3875, 'paved': 3876, 'circumstance': 3877, 'dress': 3878, 'jill': 3879, 'shoot': 3880, \"splittin'\": 3881, 'hairs': 3882, \"it'\": 3883, 'loo': 3884, 'refined': 3885, 'underground': 3886, \"playin'\": 3887, \"sleepin'\": 3888, 'stairs': 3889, \"downtown's\": 3890, 'jesus': 3891, 'grutty': 3892, 'titty': 3893, 'foul': 3894, 'hussy': 3895, 'rust': 3896, 'peeled': 3897, 'demise': 3898, 'leopard': 3899, 'nosey': 3900, 'choosy': 3901, 'floosy': 3902, 'further': 3903, 'enjoys': 3904, 'dollar': 3905, 'cyberotic': 3906, 'information': 3907, 'overload': 3908, 'digerotic': 3909, 'mass': 3910, 'appeal': 3911, 'flesh': 3912, 'tastes': 3913, 'grace': 3914, 'interface': 3915, 'megahertz': 3916, 'steel': 3917, 'planet': 3918, 'papa': 3919, 'survived': 3920, 'ordeal': 3921, 'disappears': 3922, 'synthesize': 3923, 'overrides': 3924, 'spins': 3925, 'bud': 3926, 'radioactive': 3927, 'thread': 3928, 'trash': 3929, 'rainbows': 3930, 'haystack': 3931, 'imperfections': 3932, 'rhymes': 3933, 'ought': 3934, 'wonderland': 3935, 'ate': 3936, 'mushroom': 3937, 'hatter': 3938, 'fffff': 3939, 'booty': 3940, \"caterpillar's\": 3941, 'plea': 3942, 'hog': 3943, 'gent': 3944, 'pulled': 3945, \"shakin'\": 3946, 'month': 3947, \"an'\": 3948, 'eating': 3949, \"steppin'\": 3950, 'pullin': 3951, \"sweepin'\": 3952, 'tombs': 3953, 'paranoid': 3954, 'yups': 3955, 'hop': 3956, 'stores': 3957, 'cups': 3958, 'ea': 3959, 'incense': 3960, 'mixes': 3961, 'funk': 3962, 'perfume': 3963, 'yin': 3964, 'yang': 3965, 'unpredictable': 3966, 'vindaloo': 3967, 'tantric': 3968, 'priestess': 3969, 'sweetest': 3970, '101': 3971, '102': 3972, 'giver': 3973, '97': 3974, '98': 3975, 'false': 3976, 'alarm': 3977, '105': 3978, 'charlie': 3979, 'oaahh': 3980, 'cockroach': 3981, 'terminal': 3982, 'uniqueness': 3983, 'egocentric': 3984, 'freakness': 3985, 'peter': 3986, 'motherload': 3987, 'roses': 3988, 'hip': 3989, 'shaking': 3990, 'wobble': 3991, \"crossin'\": 3992, \"get'choo\": 3993, 'attitude': 3994, 'spittle': 3995, 'thinkin': 3996, 'powder': 3997, 'wolf': 3998, 'silvery': 3999, \"joey's\": 4000, \"pavlo's\": 4001, 'salivate': 4002, 'himself': 4003, 'rattle': 4004, 'snake': 4005, 'mall': 4006, 'watchman': 4007, 'sash': 4008, 'kicking': 4009, 'eclipse': 4010, 'eatin': 4011, 'tips': 4012, 'aerosmith': 4013, 'baited': 4014, 'blinded': 4015, 'ow': 4016, 'goodbyes': 4017, 'forgiven': 4018, 'snuff': 4019, 'sneeze': 4020, 'wags': 4021, 'especially': 4022, \"mind's\": 4023, 'rewind': 4024, 'england': 4025, 'clues': 4026, \"sam's\": 4027, 'loaded': 4028, 'billy': 4029, 'goat': 4030, 'raise': 4031, 'kinds': 4032, 'dose': 4033, 'radiation': 4034, 'barn': 4035, \"patronizin'\": 4036, \"oil's\": 4037, 'mexican': 4038, 'opec': 4039, 'faar': 4040, 'papadum': 4041, 'nevermind': 4042, 'anytime': 4043, 'bluer': 4044, 'yayayayayayayow': 4045, 'albuquerque': 4046, \"must'a\": 4047, 'jerk': 4048, 'yeeeah': 4049, 'hoops': 4050, \"jumpin'\": 4051, 'lemon': 4052, 'martini': 4053, 'suits': 4054, 'psychodelisized': 4055, 'fide': 4056, 'promiscuity': 4057, 'ex': 4058, 'kaleidoscope': 4059, 'laying': 4060, 'emerald': 4061, 'pillow': 4062, 'mammy': 4063, 'lusted': 4064, 'busted': 4065, 'trusted': 4066, 'orphan': 4067, 'bleeds': 4068, \"mother's\": 4069, 'pushers': 4070, 'shovers': 4071, 'sailor': 4072, 'hers': 4073, 'cunning': 4074, \"masturbatin'\": 4075, 'noose': 4076, 'ups': 4077, 'birth': 4078, 'prophesized': 4079, 'crucified': 4080, 'holes': 4081, 'gift': 4082, \"weight's\": 4083, 'lift': 4084, 'moolah': 4085, 'bolt': 4086, 'ons': 4087, 'fix': 4088, 'skull': 4089, 'cap': 4090, 'dictionary': 4091, 'tay': 4092, 'hotpants': 4093, 'hookah': 4094, 'knocked': 4095, 'hose': 4096, 'practise': 4097, 'peach': 4098, \"cook's\": 4099, \"hidin'\": 4100, 'spoons': 4101, \"winkin'\": 4102, 'witches': 4103, 'moons': 4104, 'ficitonary': 4105, 'springtime': 4106, 'folk': 4107, 'tables': 4108, 'fiddlers': 4109, 'fixed': 4110, 'however': 4111, 'sunday': 4112, 'except': 4113, 'tragedy': 4114, 'blindly': 4115, 'everone': 4116, 'spoken': 4117, 'sung': 4118, 'bug': 4119, 'college': 4120, 'stimulating': 4121, 'drive': 4122, 'roads': 4123, 'positions': 4124, 'shovel': 4125, 'broom': 4126, 'dial': 4127, 'insecure': 4128, 'obscure': 4129, 'remains': 4130, 'cure': 4131, 'tormented': 4132, 'torn': 4133, 'believing': 4134, 'messages': 4135, 'cast': 4136, 'pressed': 4137, 'passes': 4138, 'whispers': 4139, 'fades': 4140, 'embrace': 4141, 'overflow': 4142, 'september': 4143, '1969': 4144, 'indians': 4145, 'uncaring': 4146, 'shareing': 4147, 'parents': 4148, 'innocence': 4149, 'shone': 4150, 'cottage': 4151, 'mortgage': 4152, 'discuss': 4153, 'filed': 4154, 'divorce': 4155, 'fiiled': 4156, 'forgetting': 4157, 'forgiving': 4158, 'protect': 4159, 'wiser': 4160, 'manufacture': 4161, 'troubled': 4162, 'weakness': 4163, 'sway': 4164, 'laundry': 4165, 'cook': 4166, 'listening': 4167, 'stalking': 4168, 'wore': 4169, 'depths': 4170, 'echo': 4171, 'prophet': 4172, 'potato': 4173, 'chips': 4174, 'joined': 4175, 'hips': 4176, 'zone': 4177, 'sacred': 4178, 'tills': 4179, 'daily': 4180, 'woken': 4181, 'demon': 4182, 'gates': 4183, 'soar': 4184, 'superstition': 4185, 'unto': 4186, 'ourselves': 4187, 'puts': 4188, \"eternity's\": 4189, 'throws': 4190, 'perfection': 4191, 'fails': 4192, 'quicker': 4193, 'friendship': 4194, 'secure': 4195, 'whirlwind': 4196, 'circles': 4197, 'senses': 4198, 'flood': 4199, 'craziness': 4200, 'helped': 4201, 'uncertainty': 4202, 'simply': 4203, 'slipped': 4204, 'fooststeps': 4205, 'heartbeat': 4206, 'whisper': 4207, 'wood': 4208, 'excites': 4209, 'footsteps': 4210, 'recompense': 4211, 'freed': 4212, 'awayy': 4213, 'overrrr': 4214, 'gathering': 4215, 'ended': 4216, 'shown': 4217, '3x': 4218, 'unsure': 4219, 'persuasion': 4220, 'stretched': 4221, 'headfirst': 4222, 'weird': 4223, 'remedy': 4224, 'shell': 4225, 'confused': 4226, 'tied': 4227, 'heartache': 4228, 'heartbreak': 4229, 'saturdays': 4230, 'hurried': 4231, \"cos'\": 4232, 'rolled': 4233, 'settle': 4234, 'daze': 4235, 'destroyed': 4236, 'virtues': 4237, 'board': 4238, 'wail': 4239, \"smilin'\": 4240, 'hidden': 4241, 'advances': 4242, 'alligator': 4243, \"future's\": 4244, 'dragonflies': 4245, 'cuckoos': 4246, \"spider's\": 4247, 'fields': 4248, 'guided': 4249, 'pillars': 4250, 'temple': 4251, 'force': 4252, 'awoken': 4253, 'driven': 4254, 'flows': 4255, 'taunting': 4256, 'outgrew': 4257, 'mending': 4258, 'filling': 4259, 'sacrifice': 4260, 'chosen': 4261, 'reappears': 4262, 'draws': 4263, 'fleeting': 4264, 'captured': 4265, 'seeking': 4266, \"destiny's\": 4267, 'horizon': 4268, 'rising': 4269, 'flight': 4270, 'disappeared': 4271, \"stealin'\": 4272, 'sink': 4273, 'pleaded': 4274, \"it'll\": 4275, 'statue': 4276, 'complete': 4277, 'date': 4278, 'obey': 4279, 'inspiring': 4280, 'irrespective': 4281, 'decisions': 4282, 'unwound': 4283, 'unfold': 4284, 'answers': 4285, 'ignite': 4286, 'explodes': 4287, \"diamond's\": 4288, 'island': 4289, 'arctic': 4290, \"passion's\": 4291, 'pure': 4292, \"infant's\": 4293, 'tenderly': 4294, 'honestly': 4295, 'muy': 4296, 'disappear': 4297, 'starve': 4298, 'praise': 4299, 'curse': 4300, 'squeeze': 4301, 'warmth': 4302, 'flamed': 4303, 'circled': 4304, 'rises': 4305, 'overtaking': 4306, 'alongside': 4307, 'winding': 4308, 'mutual': 4309, 'unit': 4310, \"thru'\": 4311, 'gears': 4312, 'design': 4313, 'farthest': 4314, 'fallen': 4315, 'mended': 4316, 'rent': 4317, 'harmless': 4318, 'june': 4319, 'ragged': 4320, 'letting': 4321, 'rush': 4322, 'stumble': 4323, 'total': 4324, 'grew': 4325, 'arise': 4326, 'fascination': 4327, 'weaving': 4328, 'skidder': 4329, 'deceive': 4330, 'caves': 4331}\n",
            "4332\n"
          ]
        }
      ],
      "source": [
        "# Read the dataset from csv - just first 10 songs for now\n",
        "dataset = pd.read_csv('/tmp/songdata.csv', dtype=str)[:300]\n",
        "# Create the corpus using the 'text' column containing lyrics\n",
        "corpus = create_lyrics_corpus(dataset, 'text')\n",
        "# Tokenize the corpus\n",
        "tokenizer = tokenize_corpus(corpus)\n",
        "\n",
        "total_words = len(tokenizer.word_index) + 1\n",
        "\n",
        "print(tokenizer.word_index)\n",
        "print(total_words)"
      ]
    },
    {
      "cell_type": "markdown",
      "metadata": {
        "id": "v9x68iN_X6FK"
      },
      "source": [
        "### Create Sequences and Labels\n",
        "\n",
        "After preprocessing, we next need to create sequences and labels. Creating the sequences themselves is similar to before with `texts_to_sequences`, but also including the use of [N-Grams](https://towardsdatascience.com/introduction-to-language-models-n-gram-e323081503d9); creating the labels will now utilize those sequences as well as utilize one-hot encoding over all potential output words."
      ]
    },
    {
      "cell_type": "code",
      "execution_count": 50,
      "metadata": {
        "id": "QmlTsUqfikVO"
      },
      "outputs": [],
      "source": [
        "sequences = []\n",
        "for line in corpus:\n",
        "\ttoken_list = tokenizer.texts_to_sequences([line])[0]\n",
        "\tfor i in range(1, len(token_list)):\n",
        "\t\tn_gram_sequence = token_list[:i+1]\n",
        "\t\tsequences.append(n_gram_sequence)\n",
        "\n",
        "# Pad sequences for equal input length\n",
        "max_sequence_len = max([len(seq) for seq in sequences])\n",
        "sequences = np.array(pad_sequences(sequences, maxlen=max_sequence_len, padding='pre'))\n",
        "\n",
        "# Split sequences between the \"input\" sequence and \"output\" predicted word\n",
        "input_sequences, labels = sequences[:,:-1], sequences[:,-1]\n",
        "# One-hot encode the labels\n",
        "one_hot_labels = tf.keras.utils.to_categorical(labels, num_classes=total_words)"
      ]
    },
    {
      "cell_type": "code",
      "execution_count": 51,
      "metadata": {
        "id": "Zsmu3aEId49i",
        "outputId": "7589a067-af73-4ce0-b732-9e8fdb70edb1",
        "colab": {
          "base_uri": "https://localhost:8080/"
        }
      },
      "outputs": [
        {
          "output_type": "stream",
          "name": "stdout",
          "text": [
            "32\n",
            "129\n",
            "[  0   0   0   0   0   0   0   0   0   0   0   0   0 115  71  90 206  29\n",
            "   4]\n",
            "[   0    0    0    0    0    0    0    0    0    0    0    0  115   71\n",
            "   90  206   29    4 1287]\n",
            "[0. 0. 0. ... 0. 0. 0.]\n",
            "[0. 0. 0. ... 0. 0. 0.]\n"
          ]
        }
      ],
      "source": [
        "# Check out how some of our data is being stored\n",
        "# The Tokenizer has just a single index per word\n",
        "print(tokenizer.word_index['know'])\n",
        "print(tokenizer.word_index['feeling'])\n",
        "# Input sequences will have multiple indexes\n",
        "print(input_sequences[5])\n",
        "print(input_sequences[6])\n",
        "# And the one hot labels will be as long as the full spread of tokenized words\n",
        "print(one_hot_labels[5])\n",
        "print(one_hot_labels[6])"
      ]
    },
    {
      "cell_type": "markdown",
      "metadata": {
        "id": "-1TAJMlmfO8r"
      },
      "source": [
        "### Train a Text Generation Model\n",
        "\n",
        "Building an RNN to train our text generation model will be very similar to the sentiment models you've built previously. The only real change necessary is to make sure to use Categorical instead of Binary Cross Entropy as the loss function - we could use Binary before since the sentiment was only 0 or 1, but now there are hundreds of categories.\n",
        "\n",
        "From there, we should also consider using *more* epochs than before, as text generation can take a little longer to converge than sentiment analysis, *and* we aren't working with all that much data yet. I'll set it at 200 epochs here since we're only use part of the dataset, and training will tail off quite a bit over that many epochs."
      ]
    },
    {
      "cell_type": "code",
      "execution_count": 14,
      "metadata": {
        "id": "G1YXuxIqfygN",
        "outputId": "4da73bbb-87f6-4773-8a2f-2131e7d8c8ee",
        "colab": {
          "base_uri": "https://localhost:8080/",
          "height": 347
        }
      },
      "outputs": [
        {
          "output_type": "display_data",
          "data": {
            "text/plain": [
              "\u001b[1mModel: \"functional_2\"\u001b[0m\n"
            ],
            "text/html": [
              "<pre style=\"white-space:pre;overflow-x:auto;line-height:normal;font-family:Menlo,'DejaVu Sans Mono',consolas,'Courier New',monospace\"><span style=\"font-weight: bold\">Model: \"functional_2\"</span>\n",
              "</pre>\n"
            ]
          },
          "metadata": {}
        },
        {
          "output_type": "display_data",
          "data": {
            "text/plain": [
              "┏━━━━━━━━━━━━━━━━━━━━━━━━━━━┳━━━━━━━━━━━━━━━━━━━━━━━━┳━━━━━━━━━━━━━━━━┳━━━━━━━━━━━━━━━━━━━━━━━━┓\n",
              "┃\u001b[1m \u001b[0m\u001b[1mLayer (type)             \u001b[0m\u001b[1m \u001b[0m┃\u001b[1m \u001b[0m\u001b[1mOutput Shape          \u001b[0m\u001b[1m \u001b[0m┃\u001b[1m \u001b[0m\u001b[1m       Param #\u001b[0m\u001b[1m \u001b[0m┃\u001b[1m \u001b[0m\u001b[1mConnected to          \u001b[0m\u001b[1m \u001b[0m┃\n",
              "┡━━━━━━━━━━━━━━━━━━━━━━━━━━━╇━━━━━━━━━━━━━━━━━━━━━━━━╇━━━━━━━━━━━━━━━━╇━━━━━━━━━━━━━━━━━━━━━━━━┩\n",
              "│ input_layer_4             │ (\u001b[38;5;45mNone\u001b[0m, \u001b[38;5;34m19\u001b[0m)             │              \u001b[38;5;34m0\u001b[0m │ -                      │\n",
              "│ (\u001b[38;5;33mInputLayer\u001b[0m)              │                        │                │                        │\n",
              "├───────────────────────────┼────────────────────────┼────────────────┼────────────────────────┤\n",
              "│ embedding_5 (\u001b[38;5;33mEmbedding\u001b[0m)   │ (\u001b[38;5;45mNone\u001b[0m, \u001b[38;5;34m19\u001b[0m, \u001b[38;5;34m64\u001b[0m)         │         \u001b[38;5;34m31,680\u001b[0m │ input_layer_4[\u001b[38;5;34m0\u001b[0m][\u001b[38;5;34m0\u001b[0m]    │\n",
              "├───────────────────────────┼────────────────────────┼────────────────┼────────────────────────┤\n",
              "│ bidirectional_5           │ (\u001b[38;5;45mNone\u001b[0m, \u001b[38;5;34m40\u001b[0m)             │         \u001b[38;5;34m13,600\u001b[0m │ embedding_5[\u001b[38;5;34m0\u001b[0m][\u001b[38;5;34m0\u001b[0m]      │\n",
              "│ (\u001b[38;5;33mBidirectional\u001b[0m)           │                        │                │                        │\n",
              "├───────────────────────────┼────────────────────────┼────────────────┼────────────────────────┤\n",
              "│ multi_head_attention_4    │ (\u001b[38;5;45mNone\u001b[0m, \u001b[38;5;34m40\u001b[0m)             │          \u001b[38;5;34m3,300\u001b[0m │ bidirectional_5[\u001b[38;5;34m0\u001b[0m][\u001b[38;5;34m0\u001b[0m], │\n",
              "│ (\u001b[38;5;33mMultiHeadAttention\u001b[0m)      │                        │                │ bidirectional_5[\u001b[38;5;34m0\u001b[0m][\u001b[38;5;34m0\u001b[0m]  │\n",
              "├───────────────────────────┼────────────────────────┼────────────────┼────────────────────────┤\n",
              "│ dense_5 (\u001b[38;5;33mDense\u001b[0m)           │ (\u001b[38;5;45mNone\u001b[0m, \u001b[38;5;34m495\u001b[0m)            │         \u001b[38;5;34m20,295\u001b[0m │ multi_head_attention_… │\n",
              "└───────────────────────────┴────────────────────────┴────────────────┴────────────────────────┘\n"
            ],
            "text/html": [
              "<pre style=\"white-space:pre;overflow-x:auto;line-height:normal;font-family:Menlo,'DejaVu Sans Mono',consolas,'Courier New',monospace\">┏━━━━━━━━━━━━━━━━━━━━━━━━━━━┳━━━━━━━━━━━━━━━━━━━━━━━━┳━━━━━━━━━━━━━━━━┳━━━━━━━━━━━━━━━━━━━━━━━━┓\n",
              "┃<span style=\"font-weight: bold\"> Layer (type)              </span>┃<span style=\"font-weight: bold\"> Output Shape           </span>┃<span style=\"font-weight: bold\">        Param # </span>┃<span style=\"font-weight: bold\"> Connected to           </span>┃\n",
              "┡━━━━━━━━━━━━━━━━━━━━━━━━━━━╇━━━━━━━━━━━━━━━━━━━━━━━━╇━━━━━━━━━━━━━━━━╇━━━━━━━━━━━━━━━━━━━━━━━━┩\n",
              "│ input_layer_4             │ (<span style=\"color: #00d7ff; text-decoration-color: #00d7ff\">None</span>, <span style=\"color: #00af00; text-decoration-color: #00af00\">19</span>)             │              <span style=\"color: #00af00; text-decoration-color: #00af00\">0</span> │ -                      │\n",
              "│ (<span style=\"color: #0087ff; text-decoration-color: #0087ff\">InputLayer</span>)              │                        │                │                        │\n",
              "├───────────────────────────┼────────────────────────┼────────────────┼────────────────────────┤\n",
              "│ embedding_5 (<span style=\"color: #0087ff; text-decoration-color: #0087ff\">Embedding</span>)   │ (<span style=\"color: #00d7ff; text-decoration-color: #00d7ff\">None</span>, <span style=\"color: #00af00; text-decoration-color: #00af00\">19</span>, <span style=\"color: #00af00; text-decoration-color: #00af00\">64</span>)         │         <span style=\"color: #00af00; text-decoration-color: #00af00\">31,680</span> │ input_layer_4[<span style=\"color: #00af00; text-decoration-color: #00af00\">0</span>][<span style=\"color: #00af00; text-decoration-color: #00af00\">0</span>]    │\n",
              "├───────────────────────────┼────────────────────────┼────────────────┼────────────────────────┤\n",
              "│ bidirectional_5           │ (<span style=\"color: #00d7ff; text-decoration-color: #00d7ff\">None</span>, <span style=\"color: #00af00; text-decoration-color: #00af00\">40</span>)             │         <span style=\"color: #00af00; text-decoration-color: #00af00\">13,600</span> │ embedding_5[<span style=\"color: #00af00; text-decoration-color: #00af00\">0</span>][<span style=\"color: #00af00; text-decoration-color: #00af00\">0</span>]      │\n",
              "│ (<span style=\"color: #0087ff; text-decoration-color: #0087ff\">Bidirectional</span>)           │                        │                │                        │\n",
              "├───────────────────────────┼────────────────────────┼────────────────┼────────────────────────┤\n",
              "│ multi_head_attention_4    │ (<span style=\"color: #00d7ff; text-decoration-color: #00d7ff\">None</span>, <span style=\"color: #00af00; text-decoration-color: #00af00\">40</span>)             │          <span style=\"color: #00af00; text-decoration-color: #00af00\">3,300</span> │ bidirectional_5[<span style=\"color: #00af00; text-decoration-color: #00af00\">0</span>][<span style=\"color: #00af00; text-decoration-color: #00af00\">0</span>], │\n",
              "│ (<span style=\"color: #0087ff; text-decoration-color: #0087ff\">MultiHeadAttention</span>)      │                        │                │ bidirectional_5[<span style=\"color: #00af00; text-decoration-color: #00af00\">0</span>][<span style=\"color: #00af00; text-decoration-color: #00af00\">0</span>]  │\n",
              "├───────────────────────────┼────────────────────────┼────────────────┼────────────────────────┤\n",
              "│ dense_5 (<span style=\"color: #0087ff; text-decoration-color: #0087ff\">Dense</span>)           │ (<span style=\"color: #00d7ff; text-decoration-color: #00d7ff\">None</span>, <span style=\"color: #00af00; text-decoration-color: #00af00\">495</span>)            │         <span style=\"color: #00af00; text-decoration-color: #00af00\">20,295</span> │ multi_head_attention_… │\n",
              "└───────────────────────────┴────────────────────────┴────────────────┴────────────────────────┘\n",
              "</pre>\n"
            ]
          },
          "metadata": {}
        },
        {
          "output_type": "display_data",
          "data": {
            "text/plain": [
              "\u001b[1m Total params: \u001b[0m\u001b[38;5;34m68,875\u001b[0m (269.04 KB)\n"
            ],
            "text/html": [
              "<pre style=\"white-space:pre;overflow-x:auto;line-height:normal;font-family:Menlo,'DejaVu Sans Mono',consolas,'Courier New',monospace\"><span style=\"font-weight: bold\"> Total params: </span><span style=\"color: #00af00; text-decoration-color: #00af00\">68,875</span> (269.04 KB)\n",
              "</pre>\n"
            ]
          },
          "metadata": {}
        },
        {
          "output_type": "display_data",
          "data": {
            "text/plain": [
              "\u001b[1m Trainable params: \u001b[0m\u001b[38;5;34m68,875\u001b[0m (269.04 KB)\n"
            ],
            "text/html": [
              "<pre style=\"white-space:pre;overflow-x:auto;line-height:normal;font-family:Menlo,'DejaVu Sans Mono',consolas,'Courier New',monospace\"><span style=\"font-weight: bold\"> Trainable params: </span><span style=\"color: #00af00; text-decoration-color: #00af00\">68,875</span> (269.04 KB)\n",
              "</pre>\n"
            ]
          },
          "metadata": {}
        },
        {
          "output_type": "display_data",
          "data": {
            "text/plain": [
              "\u001b[1m Non-trainable params: \u001b[0m\u001b[38;5;34m0\u001b[0m (0.00 B)\n"
            ],
            "text/html": [
              "<pre style=\"white-space:pre;overflow-x:auto;line-height:normal;font-family:Menlo,'DejaVu Sans Mono',consolas,'Courier New',monospace\"><span style=\"font-weight: bold\"> Non-trainable params: </span><span style=\"color: #00af00; text-decoration-color: #00af00\">0</span> (0.00 B)\n",
              "</pre>\n"
            ]
          },
          "metadata": {}
        }
      ],
      "source": [
        "from tensorflow.keras.models import Sequential\n",
        "from tensorflow.keras.layers import Embedding, LSTM, Dense, Bidirectional, MultiHeadAttention\n",
        "\n",
        "model = Sequential()\n",
        "model.add(Embedding(total_words, 64, input_length=max_sequence_len-1))\n",
        "model.add(Bidirectional(LSTM(20)))\n",
        "model.add(MultiHeadAttention(key_dim=20, num_heads=1))\n",
        "model.add(Dense(total_words, activation='softmax'))\n",
        "model.compile(loss='categorical_crossentropy', optimizer='adam', metrics=['accuracy'])\n",
        "model.summary()\n"
      ]
    },
    {
      "cell_type": "code",
      "source": [
        "from tensorflow.keras import layers, Model\n",
        "from tensorflow.keras.layers import Embedding, LSTM, Bidirectional, MultiHeadAttention, Dense, GlobalAveragePooling1D\n",
        "\n",
        "# Define the model using Functional API\n",
        "input_seq = layers.Input(shape=(max_sequence_len-1,), dtype=tf.int32)  # Input for the sequence\n",
        "\n",
        "# Embedding layer (converts word indices to embeddings)\n",
        "embedding_layer = Embedding(total_words, 64, input_length=max_sequence_len-1)(input_seq)\n",
        "\n",
        "# Add Bidirectional LSTM (with return_sequences=True to preserve the full sequence)\n",
        "rnn_output = Bidirectional(LSTM(20, return_sequences=True))(embedding_layer)\n",
        "\n",
        "\n",
        "# Define the MultiHeadAttention layer\n",
        "# Here we use `query` as the output of the RNN, and `value` can be the same sequence\n",
        "attention_output = MultiHeadAttention(key_dim=20, num_heads=1)(rnn_output, rnn_output)\n",
        "\n",
        "# Apply GlobalAveragePooling1D to reduce the sequence dimension to a single vector\n",
        "pooled_output = GlobalAveragePooling1D()(attention_output)\n",
        "\n",
        "# Dense layer to predict the next word (output layer)\n",
        "output = Dense(total_words, activation='softmax')(pooled_output)\n",
        "\n",
        "# Define the model\n",
        "model = Model(inputs=input_seq, outputs=output)\n",
        "\n",
        "# Compile the model\n",
        "model.compile(loss='categorical_crossentropy', optimizer='adam', metrics=['accuracy'])\n",
        "\n",
        "# Display the model summary\n",
        "model.summary()\n"
      ],
      "metadata": {
        "id": "Gi8eTsa7ucKT",
        "outputId": "4f583620-4c1f-48ee-8e05-962a9579eaea",
        "colab": {
          "base_uri": "https://localhost:8080/",
          "height": 397
        }
      },
      "execution_count": 54,
      "outputs": [
        {
          "output_type": "display_data",
          "data": {
            "text/plain": [
              "\u001b[1mModel: \"functional_12\"\u001b[0m\n"
            ],
            "text/html": [
              "<pre style=\"white-space:pre;overflow-x:auto;line-height:normal;font-family:Menlo,'DejaVu Sans Mono',consolas,'Courier New',monospace\"><span style=\"font-weight: bold\">Model: \"functional_12\"</span>\n",
              "</pre>\n"
            ]
          },
          "metadata": {}
        },
        {
          "output_type": "display_data",
          "data": {
            "text/plain": [
              "┏━━━━━━━━━━━━━━━━━━━━━━━━━━━┳━━━━━━━━━━━━━━━━━━━━━━━━┳━━━━━━━━━━━━━━━━┳━━━━━━━━━━━━━━━━━━━━━━━━┓\n",
              "┃\u001b[1m \u001b[0m\u001b[1mLayer (type)             \u001b[0m\u001b[1m \u001b[0m┃\u001b[1m \u001b[0m\u001b[1mOutput Shape          \u001b[0m\u001b[1m \u001b[0m┃\u001b[1m \u001b[0m\u001b[1m       Param #\u001b[0m\u001b[1m \u001b[0m┃\u001b[1m \u001b[0m\u001b[1mConnected to          \u001b[0m\u001b[1m \u001b[0m┃\n",
              "┡━━━━━━━━━━━━━━━━━━━━━━━━━━━╇━━━━━━━━━━━━━━━━━━━━━━━━╇━━━━━━━━━━━━━━━━╇━━━━━━━━━━━━━━━━━━━━━━━━┩\n",
              "│ input_layer_15            │ (\u001b[38;5;45mNone\u001b[0m, \u001b[38;5;34m19\u001b[0m)             │              \u001b[38;5;34m0\u001b[0m │ -                      │\n",
              "│ (\u001b[38;5;33mInputLayer\u001b[0m)              │                        │                │                        │\n",
              "├───────────────────────────┼────────────────────────┼────────────────┼────────────────────────┤\n",
              "│ embedding_16 (\u001b[38;5;33mEmbedding\u001b[0m)  │ (\u001b[38;5;45mNone\u001b[0m, \u001b[38;5;34m19\u001b[0m, \u001b[38;5;34m64\u001b[0m)         │        \u001b[38;5;34m277,248\u001b[0m │ input_layer_15[\u001b[38;5;34m0\u001b[0m][\u001b[38;5;34m0\u001b[0m]   │\n",
              "├───────────────────────────┼────────────────────────┼────────────────┼────────────────────────┤\n",
              "│ bidirectional_16          │ (\u001b[38;5;45mNone\u001b[0m, \u001b[38;5;34m19\u001b[0m, \u001b[38;5;34m40\u001b[0m)         │         \u001b[38;5;34m13,600\u001b[0m │ embedding_16[\u001b[38;5;34m0\u001b[0m][\u001b[38;5;34m0\u001b[0m]     │\n",
              "│ (\u001b[38;5;33mBidirectional\u001b[0m)           │                        │                │                        │\n",
              "├───────────────────────────┼────────────────────────┼────────────────┼────────────────────────┤\n",
              "│ multi_head_attention_21   │ (\u001b[38;5;45mNone\u001b[0m, \u001b[38;5;34m19\u001b[0m, \u001b[38;5;34m40\u001b[0m)         │          \u001b[38;5;34m3,300\u001b[0m │ bidirectional_16[\u001b[38;5;34m0\u001b[0m][\u001b[38;5;34m0\u001b[0m… │\n",
              "│ (\u001b[38;5;33mMultiHeadAttention\u001b[0m)      │                        │                │ bidirectional_16[\u001b[38;5;34m0\u001b[0m][\u001b[38;5;34m0\u001b[0m] │\n",
              "├───────────────────────────┼────────────────────────┼────────────────┼────────────────────────┤\n",
              "│ global_average_pooling1d… │ (\u001b[38;5;45mNone\u001b[0m, \u001b[38;5;34m40\u001b[0m)             │              \u001b[38;5;34m0\u001b[0m │ multi_head_attention_… │\n",
              "│ (\u001b[38;5;33mGlobalAveragePooling1D\u001b[0m)  │                        │                │                        │\n",
              "├───────────────────────────┼────────────────────────┼────────────────┼────────────────────────┤\n",
              "│ dense_15 (\u001b[38;5;33mDense\u001b[0m)          │ (\u001b[38;5;45mNone\u001b[0m, \u001b[38;5;34m4332\u001b[0m)           │        \u001b[38;5;34m177,612\u001b[0m │ global_average_poolin… │\n",
              "└───────────────────────────┴────────────────────────┴────────────────┴────────────────────────┘\n"
            ],
            "text/html": [
              "<pre style=\"white-space:pre;overflow-x:auto;line-height:normal;font-family:Menlo,'DejaVu Sans Mono',consolas,'Courier New',monospace\">┏━━━━━━━━━━━━━━━━━━━━━━━━━━━┳━━━━━━━━━━━━━━━━━━━━━━━━┳━━━━━━━━━━━━━━━━┳━━━━━━━━━━━━━━━━━━━━━━━━┓\n",
              "┃<span style=\"font-weight: bold\"> Layer (type)              </span>┃<span style=\"font-weight: bold\"> Output Shape           </span>┃<span style=\"font-weight: bold\">        Param # </span>┃<span style=\"font-weight: bold\"> Connected to           </span>┃\n",
              "┡━━━━━━━━━━━━━━━━━━━━━━━━━━━╇━━━━━━━━━━━━━━━━━━━━━━━━╇━━━━━━━━━━━━━━━━╇━━━━━━━━━━━━━━━━━━━━━━━━┩\n",
              "│ input_layer_15            │ (<span style=\"color: #00d7ff; text-decoration-color: #00d7ff\">None</span>, <span style=\"color: #00af00; text-decoration-color: #00af00\">19</span>)             │              <span style=\"color: #00af00; text-decoration-color: #00af00\">0</span> │ -                      │\n",
              "│ (<span style=\"color: #0087ff; text-decoration-color: #0087ff\">InputLayer</span>)              │                        │                │                        │\n",
              "├───────────────────────────┼────────────────────────┼────────────────┼────────────────────────┤\n",
              "│ embedding_16 (<span style=\"color: #0087ff; text-decoration-color: #0087ff\">Embedding</span>)  │ (<span style=\"color: #00d7ff; text-decoration-color: #00d7ff\">None</span>, <span style=\"color: #00af00; text-decoration-color: #00af00\">19</span>, <span style=\"color: #00af00; text-decoration-color: #00af00\">64</span>)         │        <span style=\"color: #00af00; text-decoration-color: #00af00\">277,248</span> │ input_layer_15[<span style=\"color: #00af00; text-decoration-color: #00af00\">0</span>][<span style=\"color: #00af00; text-decoration-color: #00af00\">0</span>]   │\n",
              "├───────────────────────────┼────────────────────────┼────────────────┼────────────────────────┤\n",
              "│ bidirectional_16          │ (<span style=\"color: #00d7ff; text-decoration-color: #00d7ff\">None</span>, <span style=\"color: #00af00; text-decoration-color: #00af00\">19</span>, <span style=\"color: #00af00; text-decoration-color: #00af00\">40</span>)         │         <span style=\"color: #00af00; text-decoration-color: #00af00\">13,600</span> │ embedding_16[<span style=\"color: #00af00; text-decoration-color: #00af00\">0</span>][<span style=\"color: #00af00; text-decoration-color: #00af00\">0</span>]     │\n",
              "│ (<span style=\"color: #0087ff; text-decoration-color: #0087ff\">Bidirectional</span>)           │                        │                │                        │\n",
              "├───────────────────────────┼────────────────────────┼────────────────┼────────────────────────┤\n",
              "│ multi_head_attention_21   │ (<span style=\"color: #00d7ff; text-decoration-color: #00d7ff\">None</span>, <span style=\"color: #00af00; text-decoration-color: #00af00\">19</span>, <span style=\"color: #00af00; text-decoration-color: #00af00\">40</span>)         │          <span style=\"color: #00af00; text-decoration-color: #00af00\">3,300</span> │ bidirectional_16[<span style=\"color: #00af00; text-decoration-color: #00af00\">0</span>][<span style=\"color: #00af00; text-decoration-color: #00af00\">0</span>… │\n",
              "│ (<span style=\"color: #0087ff; text-decoration-color: #0087ff\">MultiHeadAttention</span>)      │                        │                │ bidirectional_16[<span style=\"color: #00af00; text-decoration-color: #00af00\">0</span>][<span style=\"color: #00af00; text-decoration-color: #00af00\">0</span>] │\n",
              "├───────────────────────────┼────────────────────────┼────────────────┼────────────────────────┤\n",
              "│ global_average_pooling1d… │ (<span style=\"color: #00d7ff; text-decoration-color: #00d7ff\">None</span>, <span style=\"color: #00af00; text-decoration-color: #00af00\">40</span>)             │              <span style=\"color: #00af00; text-decoration-color: #00af00\">0</span> │ multi_head_attention_… │\n",
              "│ (<span style=\"color: #0087ff; text-decoration-color: #0087ff\">GlobalAveragePooling1D</span>)  │                        │                │                        │\n",
              "├───────────────────────────┼────────────────────────┼────────────────┼────────────────────────┤\n",
              "│ dense_15 (<span style=\"color: #0087ff; text-decoration-color: #0087ff\">Dense</span>)          │ (<span style=\"color: #00d7ff; text-decoration-color: #00d7ff\">None</span>, <span style=\"color: #00af00; text-decoration-color: #00af00\">4332</span>)           │        <span style=\"color: #00af00; text-decoration-color: #00af00\">177,612</span> │ global_average_poolin… │\n",
              "└───────────────────────────┴────────────────────────┴────────────────┴────────────────────────┘\n",
              "</pre>\n"
            ]
          },
          "metadata": {}
        },
        {
          "output_type": "display_data",
          "data": {
            "text/plain": [
              "\u001b[1m Total params: \u001b[0m\u001b[38;5;34m471,760\u001b[0m (1.80 MB)\n"
            ],
            "text/html": [
              "<pre style=\"white-space:pre;overflow-x:auto;line-height:normal;font-family:Menlo,'DejaVu Sans Mono',consolas,'Courier New',monospace\"><span style=\"font-weight: bold\"> Total params: </span><span style=\"color: #00af00; text-decoration-color: #00af00\">471,760</span> (1.80 MB)\n",
              "</pre>\n"
            ]
          },
          "metadata": {}
        },
        {
          "output_type": "display_data",
          "data": {
            "text/plain": [
              "\u001b[1m Trainable params: \u001b[0m\u001b[38;5;34m471,760\u001b[0m (1.80 MB)\n"
            ],
            "text/html": [
              "<pre style=\"white-space:pre;overflow-x:auto;line-height:normal;font-family:Menlo,'DejaVu Sans Mono',consolas,'Courier New',monospace\"><span style=\"font-weight: bold\"> Trainable params: </span><span style=\"color: #00af00; text-decoration-color: #00af00\">471,760</span> (1.80 MB)\n",
              "</pre>\n"
            ]
          },
          "metadata": {}
        },
        {
          "output_type": "display_data",
          "data": {
            "text/plain": [
              "\u001b[1m Non-trainable params: \u001b[0m\u001b[38;5;34m0\u001b[0m (0.00 B)\n"
            ],
            "text/html": [
              "<pre style=\"white-space:pre;overflow-x:auto;line-height:normal;font-family:Menlo,'DejaVu Sans Mono',consolas,'Courier New',monospace\"><span style=\"font-weight: bold\"> Non-trainable params: </span><span style=\"color: #00af00; text-decoration-color: #00af00\">0</span> (0.00 B)\n",
              "</pre>\n"
            ]
          },
          "metadata": {}
        }
      ]
    },
    {
      "cell_type": "code",
      "source": [
        "history = model.fit(input_sequences, one_hot_labels, epochs=200, verbose=1,initial_epoch =50)"
      ],
      "metadata": {
        "id": "I1rmQI9MgAzo",
        "outputId": "0546252d-e6f8-4a00-92ca-3193beb430ec",
        "colab": {
          "base_uri": "https://localhost:8080/"
        }
      },
      "execution_count": 55,
      "outputs": [
        {
          "output_type": "stream",
          "name": "stdout",
          "text": [
            "Epoch 1/50\n",
            "\u001b[1m1830/1830\u001b[0m \u001b[32m━━━━━━━━━━━━━━━━━━━━\u001b[0m\u001b[37m\u001b[0m \u001b[1m20s\u001b[0m 9ms/step - accuracy: 0.0430 - loss: 6.5406\n",
            "Epoch 2/50\n",
            "\u001b[1m1830/1830\u001b[0m \u001b[32m━━━━━━━━━━━━━━━━━━━━\u001b[0m\u001b[37m\u001b[0m \u001b[1m21s\u001b[0m 10ms/step - accuracy: 0.0583 - loss: 5.7744\n",
            "Epoch 3/50\n",
            "\u001b[1m1830/1830\u001b[0m \u001b[32m━━━━━━━━━━━━━━━━━━━━\u001b[0m\u001b[37m\u001b[0m \u001b[1m20s\u001b[0m 9ms/step - accuracy: 0.0938 - loss: 5.4132\n",
            "Epoch 4/50\n",
            "\u001b[1m1830/1830\u001b[0m \u001b[32m━━━━━━━━━━━━━━━━━━━━\u001b[0m\u001b[37m\u001b[0m \u001b[1m20s\u001b[0m 9ms/step - accuracy: 0.1126 - loss: 5.1423\n",
            "Epoch 5/50\n",
            "\u001b[1m1830/1830\u001b[0m \u001b[32m━━━━━━━━━━━━━━━━━━━━\u001b[0m\u001b[37m\u001b[0m \u001b[1m22s\u001b[0m 10ms/step - accuracy: 0.1319 - loss: 4.9174\n",
            "Epoch 6/50\n",
            "\u001b[1m1830/1830\u001b[0m \u001b[32m━━━━━━━━━━━━━━━━━━━━\u001b[0m\u001b[37m\u001b[0m \u001b[1m17s\u001b[0m 9ms/step - accuracy: 0.1660 - loss: 4.6698\n",
            "Epoch 7/50\n",
            "\u001b[1m1830/1830\u001b[0m \u001b[32m━━━━━━━━━━━━━━━━━━━━\u001b[0m\u001b[37m\u001b[0m \u001b[1m21s\u001b[0m 10ms/step - accuracy: 0.1843 - loss: 4.5030\n",
            "Epoch 8/50\n",
            "\u001b[1m1830/1830\u001b[0m \u001b[32m━━━━━━━━━━━━━━━━━━━━\u001b[0m\u001b[37m\u001b[0m \u001b[1m17s\u001b[0m 9ms/step - accuracy: 0.1991 - loss: 4.3314\n",
            "Epoch 9/50\n",
            "\u001b[1m1830/1830\u001b[0m \u001b[32m━━━━━━━━━━━━━━━━━━━━\u001b[0m\u001b[37m\u001b[0m \u001b[1m21s\u001b[0m 9ms/step - accuracy: 0.2161 - loss: 4.2221\n",
            "Epoch 10/50\n",
            "\u001b[1m1830/1830\u001b[0m \u001b[32m━━━━━━━━━━━━━━━━━━━━\u001b[0m\u001b[37m\u001b[0m \u001b[1m21s\u001b[0m 10ms/step - accuracy: 0.2325 - loss: 4.0793\n",
            "Epoch 11/50\n",
            "\u001b[1m1830/1830\u001b[0m \u001b[32m━━━━━━━━━━━━━━━━━━━━\u001b[0m\u001b[37m\u001b[0m \u001b[1m20s\u001b[0m 9ms/step - accuracy: 0.2436 - loss: 3.9699\n",
            "Epoch 12/50\n",
            "\u001b[1m1830/1830\u001b[0m \u001b[32m━━━━━━━━━━━━━━━━━━━━\u001b[0m\u001b[37m\u001b[0m \u001b[1m21s\u001b[0m 10ms/step - accuracy: 0.2601 - loss: 3.8670\n",
            "Epoch 13/50\n",
            "\u001b[1m1830/1830\u001b[0m \u001b[32m━━━━━━━━━━━━━━━━━━━━\u001b[0m\u001b[37m\u001b[0m \u001b[1m20s\u001b[0m 9ms/step - accuracy: 0.2739 - loss: 3.7663\n",
            "Epoch 14/50\n",
            "\u001b[1m1830/1830\u001b[0m \u001b[32m━━━━━━━━━━━━━━━━━━━━\u001b[0m\u001b[37m\u001b[0m \u001b[1m20s\u001b[0m 9ms/step - accuracy: 0.2930 - loss: 3.6516\n",
            "Epoch 15/50\n",
            "\u001b[1m1830/1830\u001b[0m \u001b[32m━━━━━━━━━━━━━━━━━━━━\u001b[0m\u001b[37m\u001b[0m \u001b[1m21s\u001b[0m 10ms/step - accuracy: 0.3006 - loss: 3.5872\n",
            "Epoch 16/50\n",
            "\u001b[1m1830/1830\u001b[0m \u001b[32m━━━━━━━━━━━━━━━━━━━━\u001b[0m\u001b[37m\u001b[0m \u001b[1m20s\u001b[0m 9ms/step - accuracy: 0.3128 - loss: 3.4957\n",
            "Epoch 17/50\n",
            "\u001b[1m1830/1830\u001b[0m \u001b[32m━━━━━━━━━━━━━━━━━━━━\u001b[0m\u001b[37m\u001b[0m \u001b[1m21s\u001b[0m 9ms/step - accuracy: 0.3244 - loss: 3.4265\n",
            "Epoch 18/50\n",
            "\u001b[1m1830/1830\u001b[0m \u001b[32m━━━━━━━━━━━━━━━━━━━━\u001b[0m\u001b[37m\u001b[0m \u001b[1m17s\u001b[0m 9ms/step - accuracy: 0.3359 - loss: 3.3347\n",
            "Epoch 19/50\n",
            "\u001b[1m1830/1830\u001b[0m \u001b[32m━━━━━━━━━━━━━━━━━━━━\u001b[0m\u001b[37m\u001b[0m \u001b[1m20s\u001b[0m 9ms/step - accuracy: 0.3451 - loss: 3.2746\n",
            "Epoch 20/50\n",
            "\u001b[1m1830/1830\u001b[0m \u001b[32m━━━━━━━━━━━━━━━━━━━━\u001b[0m\u001b[37m\u001b[0m \u001b[1m22s\u001b[0m 10ms/step - accuracy: 0.3643 - loss: 3.1666\n",
            "Epoch 21/50\n",
            "\u001b[1m1830/1830\u001b[0m \u001b[32m━━━━━━━━━━━━━━━━━━━━\u001b[0m\u001b[37m\u001b[0m \u001b[1m17s\u001b[0m 9ms/step - accuracy: 0.3676 - loss: 3.1153\n",
            "Epoch 22/50\n",
            "\u001b[1m1830/1830\u001b[0m \u001b[32m━━━━━━━━━━━━━━━━━━━━\u001b[0m\u001b[37m\u001b[0m \u001b[1m19s\u001b[0m 10ms/step - accuracy: 0.3776 - loss: 3.0569\n",
            "Epoch 23/50\n",
            "\u001b[1m1830/1830\u001b[0m \u001b[32m━━━━━━━━━━━━━━━━━━━━\u001b[0m\u001b[37m\u001b[0m \u001b[1m18s\u001b[0m 10ms/step - accuracy: 0.3896 - loss: 3.0017\n",
            "Epoch 24/50\n",
            "\u001b[1m1830/1830\u001b[0m \u001b[32m━━━━━━━━━━━━━━━━━━━━\u001b[0m\u001b[37m\u001b[0m \u001b[1m21s\u001b[0m 10ms/step - accuracy: 0.3956 - loss: 2.9621\n",
            "Epoch 25/50\n",
            "\u001b[1m1830/1830\u001b[0m \u001b[32m━━━━━━━━━━━━━━━━━━━━\u001b[0m\u001b[37m\u001b[0m \u001b[1m20s\u001b[0m 10ms/step - accuracy: 0.4050 - loss: 2.8904\n",
            "Epoch 26/50\n",
            "\u001b[1m1830/1830\u001b[0m \u001b[32m━━━━━━━━━━━━━━━━━━━━\u001b[0m\u001b[37m\u001b[0m \u001b[1m21s\u001b[0m 10ms/step - accuracy: 0.4135 - loss: 2.8374\n",
            "Epoch 27/50\n",
            "\u001b[1m1830/1830\u001b[0m \u001b[32m━━━━━━━━━━━━━━━━━━━━\u001b[0m\u001b[37m\u001b[0m \u001b[1m22s\u001b[0m 11ms/step - accuracy: 0.4218 - loss: 2.7794\n",
            "Epoch 28/50\n",
            "\u001b[1m1830/1830\u001b[0m \u001b[32m━━━━━━━━━━━━━━━━━━━━\u001b[0m\u001b[37m\u001b[0m \u001b[1m19s\u001b[0m 10ms/step - accuracy: 0.4308 - loss: 2.7414\n",
            "Epoch 29/50\n",
            "\u001b[1m1830/1830\u001b[0m \u001b[32m━━━━━━━━━━━━━━━━━━━━\u001b[0m\u001b[37m\u001b[0m \u001b[1m17s\u001b[0m 10ms/step - accuracy: 0.4344 - loss: 2.7125\n",
            "Epoch 30/50\n",
            "\u001b[1m1830/1830\u001b[0m \u001b[32m━━━━━━━━━━━━━━━━━━━━\u001b[0m\u001b[37m\u001b[0m \u001b[1m20s\u001b[0m 9ms/step - accuracy: 0.4446 - loss: 2.6712\n",
            "Epoch 31/50\n",
            "\u001b[1m1830/1830\u001b[0m \u001b[32m━━━━━━━━━━━━━━━━━━━━\u001b[0m\u001b[37m\u001b[0m \u001b[1m21s\u001b[0m 10ms/step - accuracy: 0.4508 - loss: 2.6377\n",
            "Epoch 32/50\n",
            "\u001b[1m1830/1830\u001b[0m \u001b[32m━━━━━━━━━━━━━━━━━━━━\u001b[0m\u001b[37m\u001b[0m \u001b[1m20s\u001b[0m 9ms/step - accuracy: 0.4576 - loss: 2.5905\n",
            "Epoch 33/50\n",
            "\u001b[1m1830/1830\u001b[0m \u001b[32m━━━━━━━━━━━━━━━━━━━━\u001b[0m\u001b[37m\u001b[0m \u001b[1m18s\u001b[0m 10ms/step - accuracy: 0.4584 - loss: 2.5752\n",
            "Epoch 34/50\n",
            "\u001b[1m1830/1830\u001b[0m \u001b[32m━━━━━━━━━━━━━━━━━━━━\u001b[0m\u001b[37m\u001b[0m \u001b[1m17s\u001b[0m 9ms/step - accuracy: 0.4667 - loss: 2.5243\n",
            "Epoch 35/50\n",
            "\u001b[1m1830/1830\u001b[0m \u001b[32m━━━━━━━━━━━━━━━━━━━━\u001b[0m\u001b[37m\u001b[0m \u001b[1m21s\u001b[0m 10ms/step - accuracy: 0.4716 - loss: 2.4941\n",
            "Epoch 36/50\n",
            "\u001b[1m1830/1830\u001b[0m \u001b[32m━━━━━━━━━━━━━━━━━━━━\u001b[0m\u001b[37m\u001b[0m \u001b[1m17s\u001b[0m 9ms/step - accuracy: 0.4770 - loss: 2.4531\n",
            "Epoch 37/50\n",
            "\u001b[1m1830/1830\u001b[0m \u001b[32m━━━━━━━━━━━━━━━━━━━━\u001b[0m\u001b[37m\u001b[0m \u001b[1m18s\u001b[0m 10ms/step - accuracy: 0.4875 - loss: 2.4144\n",
            "Epoch 38/50\n",
            "\u001b[1m1830/1830\u001b[0m \u001b[32m━━━━━━━━━━━━━━━━━━━━\u001b[0m\u001b[37m\u001b[0m \u001b[1m17s\u001b[0m 9ms/step - accuracy: 0.4875 - loss: 2.4017\n",
            "Epoch 39/50\n",
            "\u001b[1m1830/1830\u001b[0m \u001b[32m━━━━━━━━━━━━━━━━━━━━\u001b[0m\u001b[37m\u001b[0m \u001b[1m21s\u001b[0m 10ms/step - accuracy: 0.4912 - loss: 2.3902\n",
            "Epoch 40/50\n",
            "\u001b[1m1830/1830\u001b[0m \u001b[32m━━━━━━━━━━━━━━━━━━━━\u001b[0m\u001b[37m\u001b[0m \u001b[1m19s\u001b[0m 9ms/step - accuracy: 0.4983 - loss: 2.3441\n",
            "Epoch 41/50\n",
            "\u001b[1m1830/1830\u001b[0m \u001b[32m━━━━━━━━━━━━━━━━━━━━\u001b[0m\u001b[37m\u001b[0m \u001b[1m20s\u001b[0m 9ms/step - accuracy: 0.4992 - loss: 2.3329\n",
            "Epoch 42/50\n",
            "\u001b[1m1830/1830\u001b[0m \u001b[32m━━━━━━━━━━━━━━━━━━━━\u001b[0m\u001b[37m\u001b[0m \u001b[1m21s\u001b[0m 10ms/step - accuracy: 0.5077 - loss: 2.2880\n",
            "Epoch 43/50\n",
            "\u001b[1m1830/1830\u001b[0m \u001b[32m━━━━━━━━━━━━━━━━━━━━\u001b[0m\u001b[37m\u001b[0m \u001b[1m20s\u001b[0m 9ms/step - accuracy: 0.5070 - loss: 2.2892\n",
            "Epoch 44/50\n",
            "\u001b[1m1830/1830\u001b[0m \u001b[32m━━━━━━━━━━━━━━━━━━━━\u001b[0m\u001b[37m\u001b[0m \u001b[1m18s\u001b[0m 10ms/step - accuracy: 0.5148 - loss: 2.2576\n",
            "Epoch 45/50\n",
            "\u001b[1m1830/1830\u001b[0m \u001b[32m━━━━━━━━━━━━━━━━━━━━\u001b[0m\u001b[37m\u001b[0m \u001b[1m20s\u001b[0m 9ms/step - accuracy: 0.5138 - loss: 2.2515\n",
            "Epoch 46/50\n",
            "\u001b[1m1830/1830\u001b[0m \u001b[32m━━━━━━━━━━━━━━━━━━━━\u001b[0m\u001b[37m\u001b[0m \u001b[1m21s\u001b[0m 9ms/step - accuracy: 0.5232 - loss: 2.2187\n",
            "Epoch 47/50\n",
            "\u001b[1m1830/1830\u001b[0m \u001b[32m━━━━━━━━━━━━━━━━━━━━\u001b[0m\u001b[37m\u001b[0m \u001b[1m21s\u001b[0m 10ms/step - accuracy: 0.5227 - loss: 2.1989\n",
            "Epoch 48/50\n",
            "\u001b[1m1830/1830\u001b[0m \u001b[32m━━━━━━━━━━━━━━━━━━━━\u001b[0m\u001b[37m\u001b[0m \u001b[1m17s\u001b[0m 9ms/step - accuracy: 0.5272 - loss: 2.1636\n",
            "Epoch 49/50\n",
            "\u001b[1m1830/1830\u001b[0m \u001b[32m━━━━━━━━━━━━━━━━━━━━\u001b[0m\u001b[37m\u001b[0m \u001b[1m21s\u001b[0m 10ms/step - accuracy: 0.5304 - loss: 2.1544\n",
            "Epoch 50/50\n",
            "\u001b[1m1830/1830\u001b[0m \u001b[32m━━━━━━━━━━━━━━━━━━━━\u001b[0m\u001b[37m\u001b[0m \u001b[1m17s\u001b[0m 9ms/step - accuracy: 0.5359 - loss: 2.1405\n"
          ]
        }
      ]
    },
    {
      "cell_type": "code",
      "source": [
        "attention_layer = MultiHeadAttention(key_dim=20, num_heads=1)"
      ],
      "metadata": {
        "id": "N-GZ02KCo9sZ"
      },
      "execution_count": 22,
      "outputs": []
    },
    {
      "cell_type": "code",
      "source": [],
      "metadata": {
        "id": "ZZrUCYECoT-S",
        "outputId": "9bc99d06-2a17-44b9-cc79-ef0e67bc75bb",
        "colab": {
          "base_uri": "https://localhost:8080/"
        }
      },
      "execution_count": 28,
      "outputs": [
        {
          "output_type": "stream",
          "name": "stdout",
          "text": [
            "tf.Tensor(\n",
            "[[[-1.478642   -0.46976313 -0.5561583  -0.61296433  1.2848102\n",
            "   -0.70194983 -2.193968   -1.4284563   0.60956556  1.0547559\n",
            "   -0.11173092  0.5306785  -0.92702633 -0.9336925   0.16918008\n",
            "    0.27658352 -0.8104988   0.4432599  -0.48518974 -0.33210048]]], shape=(1, 1, 20), dtype=float32)\n",
            "Attention Output Shape: (1, 1, 20)\n",
            "Attention Scores Shape: (1, 1, 1, 1)\n"
          ]
        },
        {
          "output_type": "stream",
          "name": "stderr",
          "text": [
            "/usr/local/lib/python3.10/dist-packages/keras/src/ops/nn.py:545: UserWarning: You are using a softmax over axis 3 of a tensor of shape (1, 1, 1, 1). This axis has size 1. The softmax operation will always return the value 1, which is likely not what you intended. Did you mean to use a sigmoid instead?\n",
            "  warnings.warn(\n"
          ]
        }
      ]
    },
    {
      "cell_type": "markdown",
      "metadata": {
        "id": "AXVFpoREhV6Y"
      },
      "source": [
        "### View the Training Graph"
      ]
    },
    {
      "cell_type": "code",
      "execution_count": 46,
      "metadata": {
        "id": "aeSNfS7uhch0",
        "outputId": "4775a34c-59c7-4be8-d728-7d01baf94c39",
        "colab": {
          "base_uri": "https://localhost:8080/",
          "height": 449
        }
      },
      "outputs": [
        {
          "output_type": "display_data",
          "data": {
            "text/plain": [
              "<Figure size 640x480 with 1 Axes>"
            ],
            "image/png": "[encoded data removed]"
          },
          "metadata": {}
        }
      ],
      "source": [
        "import matplotlib.pyplot as plt\n",
        "\n",
        "def plot_graphs(history, string):\n",
        "  plt.plot(history.history[string])\n",
        "  plt.xlabel(\"Epochs\")\n",
        "  plt.ylabel(string)\n",
        "  plt.show()\n",
        "\n",
        "plot_graphs(history, 'accuracy')"
      ]
    },
    {
      "cell_type": "markdown",
      "metadata": {
        "id": "1rAgRpxYhjpB"
      },
      "source": [
        "### Generate new lyrics!\n",
        "\n",
        "It's finally time to generate some new lyrics from the trained model, and see what we get. To do so, we'll provide some \"seed text\", or an input sequence for the model to start with. We'll also decide just how long of an output sequence we want - this could essentially be infinite, as the input plus the previous output will be continuously fed in for a new output word (at least up to our max sequence length)."
      ]
    },
    {
      "cell_type": "code",
      "execution_count": 56,
      "metadata": {
        "id": "DC7zfcgviDTp",
        "outputId": "f6c20dcb-3eed-48cf-cf38-fe5eacd13276",
        "colab": {
          "base_uri": "https://localhost:8080/"
        }
      },
      "outputs": [
        {
          "output_type": "stream",
          "name": "stdout",
          "text": [
            "\u001b[1m1/1\u001b[0m \u001b[32m━━━━━━━━━━━━━━━━━━━━\u001b[0m\u001b[37m\u001b[0m \u001b[1m0s\u001b[0m 211ms/step\n",
            "\u001b[1m1/1\u001b[0m \u001b[32m━━━━━━━━━━━━━━━━━━━━\u001b[0m\u001b[37m\u001b[0m \u001b[1m0s\u001b[0m 17ms/step\n",
            "\u001b[1m1/1\u001b[0m \u001b[32m━━━━━━━━━━━━━━━━━━━━\u001b[0m\u001b[37m\u001b[0m \u001b[1m0s\u001b[0m 20ms/step\n",
            "\u001b[1m1/1\u001b[0m \u001b[32m━━━━━━━━━━━━━━━━━━━━\u001b[0m\u001b[37m\u001b[0m \u001b[1m0s\u001b[0m 16ms/step\n",
            "\u001b[1m1/1\u001b[0m \u001b[32m━━━━━━━━━━━━━━━━━━━━\u001b[0m\u001b[37m\u001b[0m \u001b[1m0s\u001b[0m 18ms/step\n",
            "\u001b[1m1/1\u001b[0m \u001b[32m━━━━━━━━━━━━━━━━━━━━\u001b[0m\u001b[37m\u001b[0m \u001b[1m0s\u001b[0m 16ms/step\n",
            "\u001b[1m1/1\u001b[0m \u001b[32m━━━━━━━━━━━━━━━━━━━━\u001b[0m\u001b[37m\u001b[0m \u001b[1m0s\u001b[0m 21ms/step\n",
            "\u001b[1m1/1\u001b[0m \u001b[32m━━━━━━━━━━━━━━━━━━━━\u001b[0m\u001b[37m\u001b[0m \u001b[1m0s\u001b[0m 17ms/step\n",
            "\u001b[1m1/1\u001b[0m \u001b[32m━━━━━━━━━━━━━━━━━━━━\u001b[0m\u001b[37m\u001b[0m \u001b[1m0s\u001b[0m 16ms/step\n",
            "\u001b[1m1/1\u001b[0m \u001b[32m━━━━━━━━━━━━━━━━━━━━\u001b[0m\u001b[37m\u001b[0m \u001b[1m0s\u001b[0m 18ms/step\n",
            "\u001b[1m1/1\u001b[0m \u001b[32m━━━━━━━━━━━━━━━━━━━━\u001b[0m\u001b[37m\u001b[0m \u001b[1m0s\u001b[0m 17ms/step\n",
            "\u001b[1m1/1\u001b[0m \u001b[32m━━━━━━━━━━━━━━━━━━━━\u001b[0m\u001b[37m\u001b[0m \u001b[1m0s\u001b[0m 16ms/step\n",
            "\u001b[1m1/1\u001b[0m \u001b[32m━━━━━━━━━━━━━━━━━━━━\u001b[0m\u001b[37m\u001b[0m \u001b[1m0s\u001b[0m 16ms/step\n",
            "\u001b[1m1/1\u001b[0m \u001b[32m━━━━━━━━━━━━━━━━━━━━\u001b[0m\u001b[37m\u001b[0m \u001b[1m0s\u001b[0m 18ms/step\n",
            "\u001b[1m1/1\u001b[0m \u001b[32m━━━━━━━━━━━━━━━━━━━━\u001b[0m\u001b[37m\u001b[0m \u001b[1m0s\u001b[0m 23ms/step\n",
            "\u001b[1m1/1\u001b[0m \u001b[32m━━━━━━━━━━━━━━━━━━━━\u001b[0m\u001b[37m\u001b[0m \u001b[1m0s\u001b[0m 21ms/step\n",
            "\u001b[1m1/1\u001b[0m \u001b[32m━━━━━━━━━━━━━━━━━━━━\u001b[0m\u001b[37m\u001b[0m \u001b[1m0s\u001b[0m 16ms/step\n",
            "\u001b[1m1/1\u001b[0m \u001b[32m━━━━━━━━━━━━━━━━━━━━\u001b[0m\u001b[37m\u001b[0m \u001b[1m0s\u001b[0m 16ms/step\n",
            "\u001b[1m1/1\u001b[0m \u001b[32m━━━━━━━━━━━━━━━━━━━━\u001b[0m\u001b[37m\u001b[0m \u001b[1m0s\u001b[0m 16ms/step\n",
            "\u001b[1m1/1\u001b[0m \u001b[32m━━━━━━━━━━━━━━━━━━━━\u001b[0m\u001b[37m\u001b[0m \u001b[1m0s\u001b[0m 18ms/step\n",
            "\u001b[1m1/1\u001b[0m \u001b[32m━━━━━━━━━━━━━━━━━━━━\u001b[0m\u001b[37m\u001b[0m \u001b[1m0s\u001b[0m 16ms/step\n",
            "\u001b[1m1/1\u001b[0m \u001b[32m━━━━━━━━━━━━━━━━━━━━\u001b[0m\u001b[37m\u001b[0m \u001b[1m0s\u001b[0m 16ms/step\n",
            "\u001b[1m1/1\u001b[0m \u001b[32m━━━━━━━━━━━━━━━━━━━━\u001b[0m\u001b[37m\u001b[0m \u001b[1m0s\u001b[0m 18ms/step\n",
            "\u001b[1m1/1\u001b[0m \u001b[32m━━━━━━━━━━━━━━━━━━━━\u001b[0m\u001b[37m\u001b[0m \u001b[1m0s\u001b[0m 17ms/step\n",
            "\u001b[1m1/1\u001b[0m \u001b[32m━━━━━━━━━━━━━━━━━━━━\u001b[0m\u001b[37m\u001b[0m \u001b[1m0s\u001b[0m 20ms/step\n",
            "\u001b[1m1/1\u001b[0m \u001b[32m━━━━━━━━━━━━━━━━━━━━\u001b[0m\u001b[37m\u001b[0m \u001b[1m0s\u001b[0m 17ms/step\n",
            "\u001b[1m1/1\u001b[0m \u001b[32m━━━━━━━━━━━━━━━━━━━━\u001b[0m\u001b[37m\u001b[0m \u001b[1m0s\u001b[0m 17ms/step\n",
            "\u001b[1m1/1\u001b[0m \u001b[32m━━━━━━━━━━━━━━━━━━━━\u001b[0m\u001b[37m\u001b[0m \u001b[1m0s\u001b[0m 16ms/step\n",
            "\u001b[1m1/1\u001b[0m \u001b[32m━━━━━━━━━━━━━━━━━━━━\u001b[0m\u001b[37m\u001b[0m \u001b[1m0s\u001b[0m 17ms/step\n",
            "\u001b[1m1/1\u001b[0m \u001b[32m━━━━━━━━━━━━━━━━━━━━\u001b[0m\u001b[37m\u001b[0m \u001b[1m0s\u001b[0m 16ms/step\n",
            "\u001b[1m1/1\u001b[0m \u001b[32m━━━━━━━━━━━━━━━━━━━━\u001b[0m\u001b[37m\u001b[0m \u001b[1m0s\u001b[0m 16ms/step\n",
            "\u001b[1m1/1\u001b[0m \u001b[32m━━━━━━━━━━━━━━━━━━━━\u001b[0m\u001b[37m\u001b[0m \u001b[1m0s\u001b[0m 20ms/step\n",
            "\u001b[1m1/1\u001b[0m \u001b[32m━━━━━━━━━━━━━━━━━━━━\u001b[0m\u001b[37m\u001b[0m \u001b[1m0s\u001b[0m 19ms/step\n",
            "\u001b[1m1/1\u001b[0m \u001b[32m━━━━━━━━━━━━━━━━━━━━\u001b[0m\u001b[37m\u001b[0m \u001b[1m0s\u001b[0m 21ms/step\n",
            "\u001b[1m1/1\u001b[0m \u001b[32m━━━━━━━━━━━━━━━━━━━━\u001b[0m\u001b[37m\u001b[0m \u001b[1m0s\u001b[0m 16ms/step\n",
            "\u001b[1m1/1\u001b[0m \u001b[32m━━━━━━━━━━━━━━━━━━━━\u001b[0m\u001b[37m\u001b[0m \u001b[1m0s\u001b[0m 17ms/step\n",
            "\u001b[1m1/1\u001b[0m \u001b[32m━━━━━━━━━━━━━━━━━━━━\u001b[0m\u001b[37m\u001b[0m \u001b[1m0s\u001b[0m 17ms/step\n",
            "\u001b[1m1/1\u001b[0m \u001b[32m━━━━━━━━━━━━━━━━━━━━\u001b[0m\u001b[37m\u001b[0m \u001b[1m0s\u001b[0m 16ms/step\n",
            "\u001b[1m1/1\u001b[0m \u001b[32m━━━━━━━━━━━━━━━━━━━━\u001b[0m\u001b[37m\u001b[0m \u001b[1m0s\u001b[0m 17ms/step\n",
            "\u001b[1m1/1\u001b[0m \u001b[32m━━━━━━━━━━━━━━━━━━━━\u001b[0m\u001b[37m\u001b[0m \u001b[1m0s\u001b[0m 17ms/step\n",
            "\u001b[1m1/1\u001b[0m \u001b[32m━━━━━━━━━━━━━━━━━━━━\u001b[0m\u001b[37m\u001b[0m \u001b[1m0s\u001b[0m 17ms/step\n",
            "\u001b[1m1/1\u001b[0m \u001b[32m━━━━━━━━━━━━━━━━━━━━\u001b[0m\u001b[37m\u001b[0m \u001b[1m0s\u001b[0m 16ms/step\n",
            "\u001b[1m1/1\u001b[0m \u001b[32m━━━━━━━━━━━━━━━━━━━━\u001b[0m\u001b[37m\u001b[0m \u001b[1m0s\u001b[0m 16ms/step\n",
            "\u001b[1m1/1\u001b[0m \u001b[32m━━━━━━━━━━━━━━━━━━━━\u001b[0m\u001b[37m\u001b[0m \u001b[1m0s\u001b[0m 21ms/step\n",
            "\u001b[1m1/1\u001b[0m \u001b[32m━━━━━━━━━━━━━━━━━━━━\u001b[0m\u001b[37m\u001b[0m \u001b[1m0s\u001b[0m 18ms/step\n",
            "\u001b[1m1/1\u001b[0m \u001b[32m━━━━━━━━━━━━━━━━━━━━\u001b[0m\u001b[37m\u001b[0m \u001b[1m0s\u001b[0m 16ms/step\n",
            "\u001b[1m1/1\u001b[0m \u001b[32m━━━━━━━━━━━━━━━━━━━━\u001b[0m\u001b[37m\u001b[0m \u001b[1m0s\u001b[0m 16ms/step\n",
            "\u001b[1m1/1\u001b[0m \u001b[32m━━━━━━━━━━━━━━━━━━━━\u001b[0m\u001b[37m\u001b[0m \u001b[1m0s\u001b[0m 16ms/step\n",
            "\u001b[1m1/1\u001b[0m \u001b[32m━━━━━━━━━━━━━━━━━━━━\u001b[0m\u001b[37m\u001b[0m \u001b[1m0s\u001b[0m 18ms/step\n",
            "\u001b[1m1/1\u001b[0m \u001b[32m━━━━━━━━━━━━━━━━━━━━\u001b[0m\u001b[37m\u001b[0m \u001b[1m0s\u001b[0m 17ms/step\n",
            "\u001b[1m1/1\u001b[0m \u001b[32m━━━━━━━━━━━━━━━━━━━━\u001b[0m\u001b[37m\u001b[0m \u001b[1m0s\u001b[0m 20ms/step\n",
            "\u001b[1m1/1\u001b[0m \u001b[32m━━━━━━━━━━━━━━━━━━━━\u001b[0m\u001b[37m\u001b[0m \u001b[1m0s\u001b[0m 20ms/step\n",
            "\u001b[1m1/1\u001b[0m \u001b[32m━━━━━━━━━━━━━━━━━━━━\u001b[0m\u001b[37m\u001b[0m \u001b[1m0s\u001b[0m 16ms/step\n",
            "\u001b[1m1/1\u001b[0m \u001b[32m━━━━━━━━━━━━━━━━━━━━\u001b[0m\u001b[37m\u001b[0m \u001b[1m0s\u001b[0m 17ms/step\n",
            "\u001b[1m1/1\u001b[0m \u001b[32m━━━━━━━━━━━━━━━━━━━━\u001b[0m\u001b[37m\u001b[0m \u001b[1m0s\u001b[0m 20ms/step\n",
            "\u001b[1m1/1\u001b[0m \u001b[32m━━━━━━━━━━━━━━━━━━━━\u001b[0m\u001b[37m\u001b[0m \u001b[1m0s\u001b[0m 16ms/step\n",
            "\u001b[1m1/1\u001b[0m \u001b[32m━━━━━━━━━━━━━━━━━━━━\u001b[0m\u001b[37m\u001b[0m \u001b[1m0s\u001b[0m 16ms/step\n",
            "\u001b[1m1/1\u001b[0m \u001b[32m━━━━━━━━━━━━━━━━━━━━\u001b[0m\u001b[37m\u001b[0m \u001b[1m0s\u001b[0m 16ms/step\n",
            "\u001b[1m1/1\u001b[0m \u001b[32m━━━━━━━━━━━━━━━━━━━━\u001b[0m\u001b[37m\u001b[0m \u001b[1m0s\u001b[0m 17ms/step\n",
            "\u001b[1m1/1\u001b[0m \u001b[32m━━━━━━━━━━━━━━━━━━━━\u001b[0m\u001b[37m\u001b[0m \u001b[1m0s\u001b[0m 18ms/step\n",
            "\u001b[1m1/1\u001b[0m \u001b[32m━━━━━━━━━━━━━━━━━━━━\u001b[0m\u001b[37m\u001b[0m \u001b[1m0s\u001b[0m 16ms/step\n",
            "\u001b[1m1/1\u001b[0m \u001b[32m━━━━━━━━━━━━━━━━━━━━\u001b[0m\u001b[37m\u001b[0m \u001b[1m0s\u001b[0m 21ms/step\n",
            "\u001b[1m1/1\u001b[0m \u001b[32m━━━━━━━━━━━━━━━━━━━━\u001b[0m\u001b[37m\u001b[0m \u001b[1m0s\u001b[0m 20ms/step\n",
            "\u001b[1m1/1\u001b[0m \u001b[32m━━━━━━━━━━━━━━━━━━━━\u001b[0m\u001b[37m\u001b[0m \u001b[1m0s\u001b[0m 19ms/step\n",
            "\u001b[1m1/1\u001b[0m \u001b[32m━━━━━━━━━━━━━━━━━━━━\u001b[0m\u001b[37m\u001b[0m \u001b[1m0s\u001b[0m 17ms/step\n",
            "\u001b[1m1/1\u001b[0m \u001b[32m━━━━━━━━━━━━━━━━━━━━\u001b[0m\u001b[37m\u001b[0m \u001b[1m0s\u001b[0m 16ms/step\n",
            "\u001b[1m1/1\u001b[0m \u001b[32m━━━━━━━━━━━━━━━━━━━━\u001b[0m\u001b[37m\u001b[0m \u001b[1m0s\u001b[0m 16ms/step\n",
            "\u001b[1m1/1\u001b[0m \u001b[32m━━━━━━━━━━━━━━━━━━━━\u001b[0m\u001b[37m\u001b[0m \u001b[1m0s\u001b[0m 20ms/step\n",
            "\u001b[1m1/1\u001b[0m \u001b[32m━━━━━━━━━━━━━━━━━━━━\u001b[0m\u001b[37m\u001b[0m \u001b[1m0s\u001b[0m 20ms/step\n",
            "\u001b[1m1/1\u001b[0m \u001b[32m━━━━━━━━━━━━━━━━━━━━\u001b[0m\u001b[37m\u001b[0m \u001b[1m0s\u001b[0m 19ms/step\n",
            "\u001b[1m1/1\u001b[0m \u001b[32m━━━━━━━━━━━━━━━━━━━━\u001b[0m\u001b[37m\u001b[0m \u001b[1m0s\u001b[0m 16ms/step\n",
            "\u001b[1m1/1\u001b[0m \u001b[32m━━━━━━━━━━━━━━━━━━━━\u001b[0m\u001b[37m\u001b[0m \u001b[1m0s\u001b[0m 16ms/step\n",
            "\u001b[1m1/1\u001b[0m \u001b[32m━━━━━━━━━━━━━━━━━━━━\u001b[0m\u001b[37m\u001b[0m \u001b[1m0s\u001b[0m 16ms/step\n",
            "\u001b[1m1/1\u001b[0m \u001b[32m━━━━━━━━━━━━━━━━━━━━\u001b[0m\u001b[37m\u001b[0m \u001b[1m0s\u001b[0m 16ms/step\n",
            "\u001b[1m1/1\u001b[0m \u001b[32m━━━━━━━━━━━━━━━━━━━━\u001b[0m\u001b[37m\u001b[0m \u001b[1m0s\u001b[0m 17ms/step\n",
            "\u001b[1m1/1\u001b[0m \u001b[32m━━━━━━━━━━━━━━━━━━━━\u001b[0m\u001b[37m\u001b[0m \u001b[1m0s\u001b[0m 17ms/step\n",
            "\u001b[1m1/1\u001b[0m \u001b[32m━━━━━━━━━━━━━━━━━━━━\u001b[0m\u001b[37m\u001b[0m \u001b[1m0s\u001b[0m 17ms/step\n",
            "\u001b[1m1/1\u001b[0m \u001b[32m━━━━━━━━━━━━━━━━━━━━\u001b[0m\u001b[37m\u001b[0m \u001b[1m0s\u001b[0m 17ms/step\n",
            "\u001b[1m1/1\u001b[0m \u001b[32m━━━━━━━━━━━━━━━━━━━━\u001b[0m\u001b[37m\u001b[0m \u001b[1m0s\u001b[0m 16ms/step\n",
            "\u001b[1m1/1\u001b[0m \u001b[32m━━━━━━━━━━━━━━━━━━━━\u001b[0m\u001b[37m\u001b[0m \u001b[1m0s\u001b[0m 19ms/step\n",
            "\u001b[1m1/1\u001b[0m \u001b[32m━━━━━━━━━━━━━━━━━━━━\u001b[0m\u001b[37m\u001b[0m \u001b[1m0s\u001b[0m 19ms/step\n",
            "\u001b[1m1/1\u001b[0m \u001b[32m━━━━━━━━━━━━━━━━━━━━\u001b[0m\u001b[37m\u001b[0m \u001b[1m0s\u001b[0m 16ms/step\n",
            "\u001b[1m1/1\u001b[0m \u001b[32m━━━━━━━━━━━━━━━━━━━━\u001b[0m\u001b[37m\u001b[0m \u001b[1m0s\u001b[0m 16ms/step\n",
            "\u001b[1m1/1\u001b[0m \u001b[32m━━━━━━━━━━━━━━━━━━━━\u001b[0m\u001b[37m\u001b[0m \u001b[1m0s\u001b[0m 16ms/step\n",
            "\u001b[1m1/1\u001b[0m \u001b[32m━━━━━━━━━━━━━━━━━━━━\u001b[0m\u001b[37m\u001b[0m \u001b[1m0s\u001b[0m 16ms/step\n",
            "\u001b[1m1/1\u001b[0m \u001b[32m━━━━━━━━━━━━━━━━━━━━\u001b[0m\u001b[37m\u001b[0m \u001b[1m0s\u001b[0m 19ms/step\n",
            "\u001b[1m1/1\u001b[0m \u001b[32m━━━━━━━━━━━━━━━━━━━━\u001b[0m\u001b[37m\u001b[0m \u001b[1m0s\u001b[0m 21ms/step\n",
            "\u001b[1m1/1\u001b[0m \u001b[32m━━━━━━━━━━━━━━━━━━━━\u001b[0m\u001b[37m\u001b[0m \u001b[1m0s\u001b[0m 20ms/step\n",
            "\u001b[1m1/1\u001b[0m \u001b[32m━━━━━━━━━━━━━━━━━━━━\u001b[0m\u001b[37m\u001b[0m \u001b[1m0s\u001b[0m 16ms/step\n",
            "\u001b[1m1/1\u001b[0m \u001b[32m━━━━━━━━━━━━━━━━━━━━\u001b[0m\u001b[37m\u001b[0m \u001b[1m0s\u001b[0m 19ms/step\n",
            "\u001b[1m1/1\u001b[0m \u001b[32m━━━━━━━━━━━━━━━━━━━━\u001b[0m\u001b[37m\u001b[0m \u001b[1m0s\u001b[0m 16ms/step\n",
            "\u001b[1m1/1\u001b[0m \u001b[32m━━━━━━━━━━━━━━━━━━━━\u001b[0m\u001b[37m\u001b[0m \u001b[1m0s\u001b[0m 16ms/step\n",
            "\u001b[1m1/1\u001b[0m \u001b[32m━━━━━━━━━━━━━━━━━━━━\u001b[0m\u001b[37m\u001b[0m \u001b[1m0s\u001b[0m 16ms/step\n",
            "\u001b[1m1/1\u001b[0m \u001b[32m━━━━━━━━━━━━━━━━━━━━\u001b[0m\u001b[37m\u001b[0m \u001b[1m0s\u001b[0m 18ms/step\n",
            "\u001b[1m1/1\u001b[0m \u001b[32m━━━━━━━━━━━━━━━━━━━━\u001b[0m\u001b[37m\u001b[0m \u001b[1m0s\u001b[0m 18ms/step\n",
            "\u001b[1m1/1\u001b[0m \u001b[32m━━━━━━━━━━━━━━━━━━━━\u001b[0m\u001b[37m\u001b[0m \u001b[1m0s\u001b[0m 27ms/step\n",
            "\u001b[1m1/1\u001b[0m \u001b[32m━━━━━━━━━━━━━━━━━━━━\u001b[0m\u001b[37m\u001b[0m \u001b[1m0s\u001b[0m 24ms/step\n",
            "\u001b[1m1/1\u001b[0m \u001b[32m━━━━━━━━━━━━━━━━━━━━\u001b[0m\u001b[37m\u001b[0m \u001b[1m0s\u001b[0m 29ms/step\n",
            "\u001b[1m1/1\u001b[0m \u001b[32m━━━━━━━━━━━━━━━━━━━━\u001b[0m\u001b[37m\u001b[0m \u001b[1m0s\u001b[0m 25ms/step\n",
            "\u001b[1m1/1\u001b[0m \u001b[32m━━━━━━━━━━━━━━━━━━━━\u001b[0m\u001b[37m\u001b[0m \u001b[1m0s\u001b[0m 26ms/step\n",
            "You are my fantasy there's my reality ya circled he feeds ya sincerely honeybee rust me plain the drum star you lovelight till you melt my heart hah honey honey get me away love you anywhere out of us to run so blue baby and i need you now you know that you want me more you'll save me bobby and moo hell known rock'n per hover over me you give me me me me me me me me me me me me me me me me me me me me me me me me me me me me me me me me\n"
          ]
        }
      ],
      "source": [
        "seed_text = \"You are my\"\n",
        "next_words = 100\n",
        "\n",
        "for _ in range(next_words):\n",
        "\ttoken_list = tokenizer.texts_to_sequences([seed_text])[0]\n",
        "\ttoken_list = pad_sequences([token_list], maxlen=max_sequence_len-1, padding='pre')\n",
        "\tpredicted = np.argmax(model.predict(token_list), axis=-1)\n",
        "\toutput_word = \"\"\n",
        "\tfor word, index in tokenizer.word_index.items():\n",
        "\t\tif index == predicted:\n",
        "\t\t\toutput_word = word\n",
        "\t\t\tbreak\n",
        "\tseed_text += \" \" + output_word\n",
        "print(seed_text)"
      ]
    }
  ],
  "metadata": {
    "accelerator": "GPU",
    "colab": {
      "name": "l10c03_nlp_constructing_text_generation_model.ipynb",
      "toc_visible": true,
      "provenance": []
    },
    "kernelspec": {
      "display_name": "Python 3",
      "name": "python3"
    }
  },
  "nbformat": 4,
  "nbformat_minor": 0
}